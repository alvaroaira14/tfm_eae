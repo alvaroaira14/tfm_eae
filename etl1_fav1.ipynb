{
 "cells": [
  {
   "cell_type": "code",
   "execution_count": 25,
   "metadata": {},
   "outputs": [],
   "source": [
    "import pandas as pd\n",
    "from unidecode import unidecode\n",
    "import pymysql\n",
    "from funciones import insert_data"
   ]
  },
  {
   "cell_type": "code",
   "execution_count": 32,
   "metadata": {},
   "outputs": [],
   "source": [
    "df = pd.read_csv(\"../tfm_datos/houses_Madrid.csv\", index_col=\"Unnamed: 0\")"
   ]
  },
  {
   "cell_type": "code",
   "execution_count": 33,
   "metadata": {},
   "outputs": [],
   "source": [
    "orientation_df = df[[\"id\", \"is_orientation_north\", \"is_orientation_west\", \"is_orientation_south\", \"is_orientation_east\"]].fillna(False)\n",
    "orientation_df = orientation_df.melt(\"id\",[ \"is_orientation_north\", \"is_orientation_west\", \"is_orientation_south\", \"is_orientation_east\"], var_name=\"orientation\", value_name=\"value\")\n",
    "\n",
    "max_orientation_df = orientation_df.groupby(\"id\")[\"value\"].idxmax()\n",
    "orientation_df = orientation_df.loc[max_orientation_df].drop(\"value\", axis=1)"
   ]
  },
  {
   "cell_type": "code",
   "execution_count": 34,
   "metadata": {},
   "outputs": [],
   "source": [
    "df_tmp = df.melt(\"id\", [\"rent_price\", \"buy_price\"], \"tipo\", \"price\")\n",
    "df = df.merge(df_tmp, on=\"id\", how=\"inner\")\n",
    "df.drop([\"rent_price\", \"buy_price\"], inplace=True, axis=1)\n",
    "df = df.merge(orientation_df, on=\"id\", how=\"inner\")\n",
    "df.dropna(subset=[\"house_type_id\", \"sq_mt_built\"], inplace=True)"
   ]
  },
  {
   "cell_type": "code",
   "execution_count": 35,
   "metadata": {},
   "outputs": [],
   "source": [
    "cols_inmueble = [[\"tipo_propiedad\", \"superficie\", \"exterior\", \"num_habitaciones\", \"num_lavabos\", \"descripcion\", \"has_lift\",\"has_parking\", \"has_terrace\", \"has_pool\", \"has_balcony\", \"certificado_energetico\", \"piso\", \"orientacion\", \"id_direccion\"], \n",
    "                 [\"tipo_propiedad\", \"superficie\", \"exterior\", \"num_habitaciones\", \"num_lavabos\", \"descripcion\", \"ascensor\",\"parking\", \"terraza\", \"piscina\", \"balcon\", \"certificado_energetico\", \"piso\", \"orientacion\", \"id_direccion\"]]\n",
    "\n",
    "cols_direccion = [[\"distrito\", \"subdistrito\"], \n",
    "                  [\"distrito\", \"subdistrito\"]]\n",
    "\n",
    "cols_anuncio = [[\"id_inmueble\", \"id_plataforma\", \"price\", \"tipo\"], \n",
    "                [\"id_inmueble\", \"id_plataforma\", \"precio\", \"tipo\"]]"
   ]
  },
  {
   "cell_type": "code",
   "execution_count": 36,
   "metadata": {},
   "outputs": [],
   "source": [
    "df = df[df.price >= 400]"
   ]
  },
  {
   "cell_type": "markdown",
   "metadata": {},
   "source": [
    "# Direccion"
   ]
  },
  {
   "cell_type": "code",
   "execution_count": 38,
   "metadata": {},
   "outputs": [
    {
     "name": "stderr",
     "output_type": "stream",
     "text": [
      "c:\\Users\\aaira\\OneDrive\\Documentos\\tfm_eae\\myenv\\lib\\site-packages\\ipykernel_launcher.py:13: SettingWithCopyWarning: \n",
      "A value is trying to be set on a copy of a slice from a DataFrame.\n",
      "Try using .loc[row_indexer,col_indexer] = value instead\n",
      "\n",
      "See the caveats in the documentation: https://pandas.pydata.org/pandas-docs/stable/user_guide/indexing.html#returning-a-view-versus-a-copy\n",
      "  del sys.path[0]\n",
      "c:\\Users\\aaira\\OneDrive\\Documentos\\tfm_eae\\myenv\\lib\\site-packages\\pandas\\util\\_decorators.py:311: SettingWithCopyWarning: \n",
      "A value is trying to be set on a copy of a slice from a DataFrame\n",
      "\n",
      "See the caveats in the documentation: https://pandas.pydata.org/pandas-docs/stable/user_guide/indexing.html#returning-a-view-versus-a-copy\n",
      "  return func(*args, **kwargs)\n"
     ]
    }
   ],
   "source": [
    "df_distrito = df.neighborhood_id.str.split(\":\", expand=True)\n",
    "df_distrito = df_distrito[df_distrito.columns[1:]]\n",
    "df_distrito.columns = [\"subdistrito\", \"distrito\"]\n",
    "df_distrito.subdistrito = df_distrito.subdistrito.str.split(\"(\").str[0]\n",
    "df_distrito.subdistrito = df_distrito.subdistrito.str.lower().str.strip()\n",
    "df_distrito.subdistrito = df_distrito.subdistrito.apply(lambda x: unidecode(x))\n",
    "df_distrito.distrito = df_distrito.distrito.str.lower().str.strip()\n",
    "df_distrito.distrito = df_distrito.distrito.apply(lambda x: unidecode(x))\n",
    "df.drop(\"neighborhood_id\", axis=1, inplace=True)\n",
    "df = df.join(df_distrito)\n",
    "df_direccion = df[cols_direccion[0]]\n",
    "df_direccion.columns = cols_direccion[1]\n",
    "df_direccion[\"ciudad\"] = \"madrid\"\n",
    "df_direccion.drop_duplicates(inplace=True)"
   ]
  },
  {
   "cell_type": "code",
   "execution_count": 39,
   "metadata": {},
   "outputs": [],
   "source": [
    "url = '../tfm_datos/CALLEJERO_VIGENTE_NUMERACIONES_202305.csv'\n",
    "df_zip_codes = pd.read_csv(url, sep=';', encoding='latin-1')"
   ]
  },
  {
   "cell_type": "code",
   "execution_count": 40,
   "metadata": {},
   "outputs": [],
   "source": [
    "df_zip_codes = df_zip_codes[[\"Nombre del distrito\", \"Nombre del barrio\", \"Codigo postal\"]]\n",
    "df_zip_codes['Nombre del distrito'] = df_zip_codes['Nombre del distrito'].str.lower().str.strip()\n",
    "df_zip_codes['Nombre del barrio'] = df_zip_codes['Nombre del barrio'].str.lower().str.strip()\n",
    "df_zip_codes[\"Nombre del distrito\"] = df_zip_codes[\"Nombre del distrito\"].apply(lambda x: unidecode(x))\n",
    "df_zip_codes[\"Nombre del barrio\"] = df_zip_codes[\"Nombre del barrio\"].apply(lambda x: unidecode(x))\n",
    "df_zip_codes.columns = [\"distrito\", \"subdistrito\", \"codigo_postal\"]\n",
    "\n",
    "\n",
    "df_zip_codes.distrito = df_zip_codes.distrito.str.split(\"-\").str[0]"
   ]
  },
  {
   "cell_type": "code",
   "execution_count": 41,
   "metadata": {},
   "outputs": [],
   "source": [
    "def change_values(dataframe):\n",
    "    dataframe.loc[dataframe[\"subdistrito\"] == \"casco historico de barajas\", \"subdistrito\"] = \"casco h.barajas\"\n",
    "    dataframe.loc[dataframe[\"subdistrito\"] == \"campo de las naciones-corralejos\", \"subdistrito\"] = \"corralejos\"\n",
    "    dataframe.loc[dataframe[\"subdistrito\"] == \"buena vista\", \"subdistrito\"] = \"buenavista\"\n",
    "    dataframe.loc[dataframe[\"subdistrito\"] == \"palos de moguer\", \"subdistrito\"] = \"palos de la frontera\"\n",
    "    dataframe.loc[dataframe[\"subdistrito\"] == \"chueca-justicia\", \"subdistrito\"] = \"justicia\"\n",
    "    dataframe.loc[dataframe[\"subdistrito\"] == \"malasana-universidad\", \"subdistrito\"] = \"universidad\"\n",
    "    dataframe.loc[dataframe[\"subdistrito\"] == \"huertas-cortes\", \"subdistrito\"] = \"cortes\"\n",
    "    dataframe.loc[dataframe[\"subdistrito\"] == \"lavapies-embajadores\", \"subdistrito\"] = \"embajadores\"\n",
    "    dataframe.loc[dataframe[\"subdistrito\"] == \"bernabeu-hispanoamerica\", \"subdistrito\"] = \"hispanoamerica\"\n",
    "    dataframe.loc[dataframe[\"subdistrito\"] == \"nuevos ministerios-rios rosas\", \"subdistrito\"] = \"rios rosas\"\n",
    "    dataframe.loc[dataframe[\"subdistrito\"] == \"pilar\", \"subdistrito\"] = \"el pilar\"\n",
    "    dataframe.loc[dataframe[\"subdistrito\"] == \"penagrande\", \"subdistrito\"] = \"pena grande\"\n",
    "    dataframe.loc[dataframe[\"subdistrito\"] == \"tres olivos - valverde\", \"subdistrito\"] = \"valverde\"\n",
    "    dataframe.loc[dataframe[\"subdistrito\"] == \"sanchinarro\", \"subdistrito\"] = \"pinar del rey\"\n",
    "    dataframe.loc[dataframe[\"subdistrito\"] == \"valdebebas - valdefuentes\", \"subdistrito\"] = \"valdefuentes\"\n",
    "    dataframe.loc[dataframe[\"subdistrito\"] == \"conde orgaz-piovera\", \"subdistrito\"] = \"piovera\"\n",
    "    dataframe.loc[dataframe[\"subdistrito\"] == \"penagrande\", \"subdistrito\"] = \"pena grande\"\n",
    "    dataframe.loc[dataframe[\"subdistrito\"] == \"aguilas\", \"subdistrito\"] = \"las aguilas\"\n",
    "    dataframe.loc[dataframe[\"subdistrito\"] == \"jeronimos\", \"subdistrito\"] = \"los jeronimos\"\n",
    "    dataframe.loc[dataframe[\"subdistrito\"] == \"cuzco-castillejos\", \"subdistrito\"] = \"castillejos\"\n",
    "    dataframe.loc[dataframe[\"subdistrito\"] == \"ventilla-almenara\", \"subdistrito\"] = \"almenara\"\n",
    "    dataframe.loc[dataframe[\"subdistrito\"] == \"12 de octubre-orcasur\", \"subdistrito\"] = \"orcasur\"\n",
    "    dataframe.loc[dataframe[\"subdistrito\"] == \"el canaveral - los berrocales\", \"subdistrito\"] = \"el canaveral\"\n",
    "    dataframe.loc[dataframe[\"subdistrito\"] == \"casco historico de vicalvaro\", \"subdistrito\"] = \"casco h.vicalvaro\"\n",
    "    dataframe.loc[dataframe[\"subdistrito\"] == \"valdebernardo - valderribas\", \"subdistrito\"] = \"valderrivas\"\n",
    "    dataframe.loc[dataframe[\"subdistrito\"] == \"ensanche de vallecas - la gavia\", \"subdistrito\"] = \"ensanche de vallecas\"\n",
    "    dataframe.loc[dataframe[\"subdistrito\"] == \"casco historico de vallecas\", \"subdistrito\"] = \"casco h.vallecas\"\n",
    "    dataframe.loc[dataframe[\"subdistrito\"] == \"virgen del cortijo - manoteras\", \"subdistrito\"] = \"pinar del rey\"\n",
    "    dataframe.loc[dataframe[\"subdistrito\"] == \"san andres\", \"subdistrito\"] = \"villaverde alto c.h.\"\n",
    "    dataframe.loc[dataframe[\"subdistrito\"] == \"ambroz\", \"subdistrito\"] = \"casco h.vicalvaro\"\n",
    "    dataframe.loc[dataframe[\"subdistrito\"] == \"montecarmelo\", \"subdistrito\"] = \"valverde\"\n",
    "    dataframe.loc[dataframe[\"subdistrito\"] == \"arroyo del fresno\", \"subdistrito\"] = \"mirasierra\"\n",
    "    dataframe.loc[dataframe[\"subdistrito\"] == \"pau de carabanchel\", \"subdistrito\"] = \"buenavista\"\n",
    "    dataframe.loc[dataframe[\"subdistrito\"] == \"las tablas\", \"subdistrito\"] = \"valverde\"\n",
    "\n",
    "    \n",
    "    return dataframe"
   ]
  },
  {
   "cell_type": "code",
   "execution_count": 42,
   "metadata": {},
   "outputs": [
    {
     "name": "stderr",
     "output_type": "stream",
     "text": [
      "c:\\Users\\aaira\\OneDrive\\Documentos\\tfm_eae\\myenv\\lib\\site-packages\\pandas\\core\\indexing.py:1732: SettingWithCopyWarning: \n",
      "A value is trying to be set on a copy of a slice from a DataFrame\n",
      "\n",
      "See the caveats in the documentation: https://pandas.pydata.org/pandas-docs/stable/user_guide/indexing.html#returning-a-view-versus-a-copy\n",
      "  self._setitem_single_block(indexer, value, name)\n",
      "c:\\Users\\aaira\\OneDrive\\Documentos\\tfm_eae\\myenv\\lib\\site-packages\\pandas\\core\\indexing.py:723: SettingWithCopyWarning: \n",
      "A value is trying to be set on a copy of a slice from a DataFrame\n",
      "\n",
      "See the caveats in the documentation: https://pandas.pydata.org/pandas-docs/stable/user_guide/indexing.html#returning-a-view-versus-a-copy\n",
      "  iloc._setitem_with_indexer(indexer, value, self.name)\n"
     ]
    }
   ],
   "source": [
    "df_direccion = change_values(df_direccion)\n",
    "df_direccion = df_direccion.merge(df_zip_codes[[\"distrito\", \"subdistrito\", \"codigo_postal\"]], on=[\"distrito\", \"subdistrito\"], how=\"left\")\n"
   ]
  },
  {
   "cell_type": "code",
   "execution_count": 43,
   "metadata": {},
   "outputs": [],
   "source": [
    "df_direccion.dropna(inplace=True)\n",
    "df_direccion.drop_duplicates(inplace=True)\n",
    "df_direccion[\"id_direccion\"] = range(1,df_direccion.shape[0]+1)"
   ]
  },
  {
   "cell_type": "code",
   "execution_count": 44,
   "metadata": {},
   "outputs": [],
   "source": [
    "path2 = \"../tfm_datos/03_SuperficieZonasVerdesDistritosCalles_2022.csv\"\n",
    "df_zonasverdes = pd.read_csv(path2, sep=\";\")\n",
    "df_zonasverdes.dropna(inplace=True)\n",
    "df_zonasverdes.columns = [\"num_distrito\", \"distrito\", \"m2_zonasverdes\", \"ha_zonasverdes\"]\n",
    "df_zonasverdes.distrito = df_zonasverdes.distrito.apply(lambda x: unidecode(x)).str.lower()\n",
    "df_zonasverdes.distrito = df_zonasverdes.distrito.str.split(\"-\").str[0].str.strip()\n",
    "df_zonasverdes.ha_zonasverdes = df_zonasverdes[\"ha_zonasverdes\"].str.replace(\",\", \".\").astype(float)"
   ]
  },
  {
   "cell_type": "code",
   "execution_count": 45,
   "metadata": {},
   "outputs": [],
   "source": [
    "df_direccion = df_direccion.merge(df_zonasverdes[[\"distrito\", \"ha_zonasverdes\"]], on=\"distrito\", how=\"left\")"
   ]
  },
  {
   "attachments": {},
   "cell_type": "markdown",
   "metadata": {},
   "source": [
    "# Inmueble"
   ]
  },
  {
   "cell_type": "code",
   "execution_count": 46,
   "metadata": {},
   "outputs": [],
   "source": [
    "df = change_values(df)"
   ]
  },
  {
   "cell_type": "code",
   "execution_count": 47,
   "metadata": {},
   "outputs": [],
   "source": [
    "df = df.merge(df_direccion[['distrito', 'subdistrito', 'id_direccion']], on=['distrito', 'subdistrito'], how=\"left\")"
   ]
  },
  {
   "cell_type": "code",
   "execution_count": 48,
   "metadata": {},
   "outputs": [
    {
     "name": "stderr",
     "output_type": "stream",
     "text": [
      "c:\\Users\\aaira\\OneDrive\\Documentos\\tfm_eae\\myenv\\lib\\site-packages\\ipykernel_launcher.py:18: SettingWithCopyWarning: \n",
      "A value is trying to be set on a copy of a slice from a DataFrame.\n",
      "Try using .loc[row_indexer,col_indexer] = value instead\n",
      "\n",
      "See the caveats in the documentation: https://pandas.pydata.org/pandas-docs/stable/user_guide/indexing.html#returning-a-view-versus-a-copy\n",
      "c:\\Users\\aaira\\OneDrive\\Documentos\\tfm_eae\\myenv\\lib\\site-packages\\ipykernel_launcher.py:20: SettingWithCopyWarning: \n",
      "A value is trying to be set on a copy of a slice from a DataFrame.\n",
      "Try using .loc[row_indexer,col_indexer] = value instead\n",
      "\n",
      "See the caveats in the documentation: https://pandas.pydata.org/pandas-docs/stable/user_guide/indexing.html#returning-a-view-versus-a-copy\n",
      "c:\\Users\\aaira\\OneDrive\\Documentos\\tfm_eae\\myenv\\lib\\site-packages\\ipykernel_launcher.py:21: SettingWithCopyWarning: \n",
      "A value is trying to be set on a copy of a slice from a DataFrame.\n",
      "Try using .loc[row_indexer,col_indexer] = value instead\n",
      "\n",
      "See the caveats in the documentation: https://pandas.pydata.org/pandas-docs/stable/user_guide/indexing.html#returning-a-view-versus-a-copy\n",
      "c:\\Users\\aaira\\OneDrive\\Documentos\\tfm_eae\\myenv\\lib\\site-packages\\ipykernel_launcher.py:22: SettingWithCopyWarning: \n",
      "A value is trying to be set on a copy of a slice from a DataFrame.\n",
      "Try using .loc[row_indexer,col_indexer] = value instead\n",
      "\n",
      "See the caveats in the documentation: https://pandas.pydata.org/pandas-docs/stable/user_guide/indexing.html#returning-a-view-versus-a-copy\n",
      "c:\\Users\\aaira\\OneDrive\\Documentos\\tfm_eae\\myenv\\lib\\site-packages\\ipykernel_launcher.py:23: SettingWithCopyWarning: \n",
      "A value is trying to be set on a copy of a slice from a DataFrame.\n",
      "Try using .loc[row_indexer,col_indexer] = value instead\n",
      "\n",
      "See the caveats in the documentation: https://pandas.pydata.org/pandas-docs/stable/user_guide/indexing.html#returning-a-view-versus-a-copy\n",
      "c:\\Users\\aaira\\OneDrive\\Documentos\\tfm_eae\\myenv\\lib\\site-packages\\ipykernel_launcher.py:24: SettingWithCopyWarning: \n",
      "A value is trying to be set on a copy of a slice from a DataFrame.\n",
      "Try using .loc[row_indexer,col_indexer] = value instead\n",
      "\n",
      "See the caveats in the documentation: https://pandas.pydata.org/pandas-docs/stable/user_guide/indexing.html#returning-a-view-versus-a-copy\n",
      "c:\\Users\\aaira\\OneDrive\\Documentos\\tfm_eae\\myenv\\lib\\site-packages\\ipykernel_launcher.py:25: SettingWithCopyWarning: \n",
      "A value is trying to be set on a copy of a slice from a DataFrame.\n",
      "Try using .loc[row_indexer,col_indexer] = value instead\n",
      "\n",
      "See the caveats in the documentation: https://pandas.pydata.org/pandas-docs/stable/user_guide/indexing.html#returning-a-view-versus-a-copy\n",
      "c:\\Users\\aaira\\OneDrive\\Documentos\\tfm_eae\\myenv\\lib\\site-packages\\ipykernel_launcher.py:26: SettingWithCopyWarning: \n",
      "A value is trying to be set on a copy of a slice from a DataFrame.\n",
      "Try using .loc[row_indexer,col_indexer] = value instead\n",
      "\n",
      "See the caveats in the documentation: https://pandas.pydata.org/pandas-docs/stable/user_guide/indexing.html#returning-a-view-versus-a-copy\n"
     ]
    }
   ],
   "source": [
    "df.fillna(False, inplace=True)\n",
    "df[\"tipo_propiedad\"] = df.house_type_id.str.split(\":\").str[-1]\n",
    "df[\"tipo_propiedad\"] = df.tipo_propiedad.apply(lambda x: unidecode(x)).str.lower().str.strip()\n",
    "df[\"orientacion\"] = df.orientation.str.split(\"_\").str[-1]\n",
    "translation_map = {'west': 'oeste', 'east': 'este', 'north': 'norte', 'south': 'sur'}\n",
    "df['orientacion'] = df.orientacion.replace(translation_map)\n",
    "df[\"superficie\"] = df.sq_mt_built.astype(int)\n",
    "df[\"num_lavabos\"] = df.n_bathrooms.astype(int)\n",
    "df[\"num_habitaciones\"] = df.n_rooms.astype(int)\n",
    "df[\"exterior\"] = df.is_exterior.fillna(False)\n",
    "df[\"certificado_energetico\"] = df.energy_certificate.apply(lambda x: unidecode(x)).str.lower().str.strip()\n",
    "df[\"descripcion\"] = df.title.apply(lambda x: unidecode(x)).str.lower().str.strip()\n",
    "df[\"piso\"] = df.floor.str.lower().replace({\"bajo\":\"0\", \".*sótano.*\":\"0\"}, regex=True)\n",
    "df[\"piso\"] = pd.to_numeric(df.piso, errors='coerce')\n",
    "df_inmueble = df[cols_inmueble[0]]\n",
    "df_inmueble.columns = cols_inmueble[1]\n",
    "df_inmueble.dropna(inplace=True)\n",
    "df_inmueble[\"piso\"] = df_inmueble.piso.astype(int)\n",
    "df_inmueble.drop_duplicates(inplace=True)\n",
    "df_inmueble[\"id_inmueble\"] = range(1, df_inmueble.shape[0]+1)\n",
    "df_inmueble[\"exterior\"] = df_inmueble.exterior.astype(int)\n",
    "df_inmueble[\"ascensor\"] = df_inmueble.ascensor.astype(int)\n",
    "df_inmueble[\"terraza\"] = df_inmueble.terraza.astype(int)\n",
    "df_inmueble[\"parking\"] = df_inmueble.parking.astype(int)\n",
    "df_inmueble[\"piscina\"] = df_inmueble.piscina.astype(int)\n",
    "df_inmueble[\"balcon\"] = df_inmueble.balcon.astype(int)"
   ]
  },
  {
   "cell_type": "markdown",
   "metadata": {},
   "source": [
    "# Plataforma"
   ]
  },
  {
   "cell_type": "code",
   "execution_count": 49,
   "metadata": {},
   "outputs": [],
   "source": [
    "df[\"id_plataforma\"] = 1\n",
    "df_plataforma = pd.DataFrame({\"id_plataforma\": [1],\"nombre\": [\"idealista\"], \"num_inmuebles\": [df_inmueble.shape[0]]})"
   ]
  },
  {
   "attachments": {},
   "cell_type": "markdown",
   "metadata": {},
   "source": [
    "# Anuncio"
   ]
  },
  {
   "cell_type": "code",
   "execution_count": 50,
   "metadata": {},
   "outputs": [],
   "source": [
    "df_inmueble2 = df_inmueble\n",
    "cols = df_inmueble2.columns[df_inmueble2.dtypes == bool]\n",
    "df_inmueble2[cols] = df_inmueble2[cols].astype(str)"
   ]
  },
  {
   "cell_type": "code",
   "execution_count": 51,
   "metadata": {},
   "outputs": [],
   "source": [
    "df.rename(columns={'has_lift': 'ascensor', \"has_parking\":\"parking\", \"has_terrace\":\"terraza\", \"has_pool\":\"piscina\", \"has_balcony\":\"balcon\"}, inplace=True)\n",
    "df[cols] = df[cols].astype(str)"
   ]
  },
  {
   "cell_type": "code",
   "execution_count": 52,
   "metadata": {},
   "outputs": [],
   "source": [
    "df = df.merge(df_inmueble2, \n",
    "       on=['tipo_propiedad', 'superficie', 'num_habitaciones',\n",
    "       'num_lavabos', 'descripcion', 'ascensor', 'parking', 'terraza',\n",
    "       'piscina', 'balcon', 'certificado_energetico', 'piso', 'orientacion',\n",
    "       'exterior', 'id_direccion'], \n",
    "       how=\"left\")\n",
    "df.dropna(subset=[\"id_inmueble\"], inplace=True)"
   ]
  },
  {
   "cell_type": "code",
   "execution_count": 53,
   "metadata": {},
   "outputs": [
    {
     "name": "stderr",
     "output_type": "stream",
     "text": [
      "c:\\Users\\aaira\\OneDrive\\Documentos\\tfm_eae\\myenv\\lib\\site-packages\\ipykernel_launcher.py:3: SettingWithCopyWarning: \n",
      "A value is trying to be set on a copy of a slice from a DataFrame.\n",
      "Try using .loc[row_indexer,col_indexer] = value instead\n",
      "\n",
      "See the caveats in the documentation: https://pandas.pydata.org/pandas-docs/stable/user_guide/indexing.html#returning-a-view-versus-a-copy\n",
      "  This is separate from the ipykernel package so we can avoid doing imports until\n",
      "c:\\Users\\aaira\\OneDrive\\Documentos\\tfm_eae\\myenv\\lib\\site-packages\\pandas\\core\\generic.py:5516: SettingWithCopyWarning: \n",
      "A value is trying to be set on a copy of a slice from a DataFrame.\n",
      "Try using .loc[row_indexer,col_indexer] = value instead\n",
      "\n",
      "See the caveats in the documentation: https://pandas.pydata.org/pandas-docs/stable/user_guide/indexing.html#returning-a-view-versus-a-copy\n",
      "  self[name] = value\n",
      "c:\\Users\\aaira\\OneDrive\\Documentos\\tfm_eae\\myenv\\lib\\site-packages\\ipykernel_launcher.py:6: SettingWithCopyWarning: \n",
      "A value is trying to be set on a copy of a slice from a DataFrame.\n",
      "Try using .loc[row_indexer,col_indexer] = value instead\n",
      "\n",
      "See the caveats in the documentation: https://pandas.pydata.org/pandas-docs/stable/user_guide/indexing.html#returning-a-view-versus-a-copy\n",
      "  \n",
      "c:\\Users\\aaira\\OneDrive\\Documentos\\tfm_eae\\myenv\\lib\\site-packages\\ipykernel_launcher.py:7: SettingWithCopyWarning: \n",
      "A value is trying to be set on a copy of a slice from a DataFrame.\n",
      "Try using .loc[row_indexer,col_indexer] = value instead\n",
      "\n",
      "See the caveats in the documentation: https://pandas.pydata.org/pandas-docs/stable/user_guide/indexing.html#returning-a-view-versus-a-copy\n",
      "  import sys\n"
     ]
    }
   ],
   "source": [
    "df_anuncio = df[cols_anuncio[0]]\n",
    "df_anuncio.columns = cols_anuncio[1]\n",
    "df_anuncio[\"id_inmueble\"] = df_anuncio.id_inmueble.astype(int)\n",
    "df_anuncio.tipo = df_anuncio.tipo.str.split(\"_\").str[0]\n",
    "translation_map = {'rent': 'alquiler', 'buy': 'compra'}\n",
    "df_anuncio['tipo'] = df_anuncio['tipo'].replace(translation_map)\n",
    "df_anuncio[\"id_anuncio\"] = range(1, df_anuncio.shape[0]+1)"
   ]
  },
  {
   "cell_type": "code",
   "execution_count": 54,
   "metadata": {},
   "outputs": [
    {
     "name": "stdout",
     "output_type": "stream",
     "text": [
      "\n",
      "--conexion con la base de datos establecida--\n",
      "\n",
      "\n",
      "--inserción datos tabla direccion completado--\n",
      "\n",
      "\n",
      "--inserción datos tabla plataforma completado--\n",
      "\n",
      "\n",
      "--inserción datos tabla inmueble completado--\n",
      "\n",
      "\n",
      "--inserción datos tabla anuncio completado--\n",
      "\n"
     ]
    }
   ],
   "source": [
    "conn = pymysql.connect(host='localhost', user='tfm_user', password='tfmdatabase1234', db='tfm_database')\n",
    "cursor = conn.cursor()\n",
    "print(\"\\n--conexion con la base de datos establecida--\\n\")\n",
    "\n",
    "cursor = conn.cursor()\n",
    "insert_data(df_direccion, \"direccion\", cursor)\n",
    "conn.commit()\n",
    "print(\"\\n--inserción datos tabla direccion completado--\\n\")\n",
    "\n",
    "cursor = conn.cursor()\n",
    "insert_data(df_plataforma, \"plataforma\", cursor)\n",
    "conn.commit()\n",
    "print(\"\\n--inserción datos tabla plataforma completado--\\n\")\n",
    "\n",
    "insert_data(df_inmueble, \"inmueble\", cursor)\n",
    "conn.commit()\n",
    "print(\"\\n--inserción datos tabla inmueble completado--\\n\")\n",
    "\n",
    "cursor = conn.cursor()\n",
    "insert_data(df_anuncio, \"anuncio\", cursor)\n",
    "conn.commit()\n",
    "print(\"\\n--inserción datos tabla anuncio completado--\\n\")"
   ]
  }
 ],
 "metadata": {
  "kernelspec": {
   "display_name": "myenv",
   "language": "python",
   "name": "python3"
  },
  "language_info": {
   "codemirror_mode": {
    "name": "ipython",
    "version": 3
   },
   "file_extension": ".py",
   "mimetype": "text/x-python",
   "name": "python",
   "nbconvert_exporter": "python",
   "pygments_lexer": "ipython3",
   "version": "3.7.9"
  },
  "orig_nbformat": 4
 },
 "nbformat": 4,
 "nbformat_minor": 2
}
