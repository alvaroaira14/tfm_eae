{
 "cells": [
  {
   "cell_type": "code",
   "execution_count": 5,
   "metadata": {},
   "outputs": [],
   "source": [
    "from sklearn.ensemble import RandomForestRegressor\n",
    "from sklearn.model_selection import train_test_split\n",
    "from sklearn.preprocessing import MinMaxScaler\n",
    "from sklearn.metrics import mean_squared_error, r2_score\n",
    "\n",
    "from sklearn.linear_model import LinearRegression\n",
    "import numpy as np\n",
    "import pandas as pd\n",
    "import pymysql"
   ]
  },
  {
   "cell_type": "code",
   "execution_count": 6,
   "metadata": {},
   "outputs": [],
   "source": [
    "np.random.seed(42)"
   ]
  },
  {
   "cell_type": "code",
   "execution_count": 7,
   "metadata": {},
   "outputs": [],
   "source": [
    "conn = pymysql.connect(host='localhost', user='tfm_user', password='tfmdatabase1234', db='tfm_database')"
   ]
  },
  {
   "cell_type": "code",
   "execution_count": 8,
   "metadata": {},
   "outputs": [],
   "source": [
    "df_inmueble = pd.read_sql(\"SELECT * FROM inmueble\", conn)\n",
    "df_direccion = pd.read_sql(\"SELECT * FROM direccion\", conn)\n",
    "df_anuncio = pd.read_sql(\"SELECT * FROM anuncio\", conn)"
   ]
  },
  {
   "cell_type": "code",
   "execution_count": 9,
   "metadata": {},
   "outputs": [],
   "source": [
    "inmueble_cols = list(set(df_inmueble.columns) - set([\"descripcion\", \"certificado_energetico\"]))\n",
    "direccion_cols = [\"id_direccion\", \"ha_zonasverdes\", \"distrito\"]\n",
    "anuncio_cols = [\"id_inmueble\", \"precio\", \"tipo\"]"
   ]
  },
  {
   "cell_type": "code",
   "execution_count": 10,
   "metadata": {},
   "outputs": [],
   "source": [
    "df_inmueble_ml = df_inmueble[inmueble_cols]\n",
    "df_direccion_ml = df_direccion[direccion_cols]\n",
    "df_anuncio_ml = df_anuncio[anuncio_cols]"
   ]
  },
  {
   "cell_type": "code",
   "execution_count": 11,
   "metadata": {},
   "outputs": [],
   "source": [
    "df_ml = df_anuncio_ml.merge(df_inmueble_ml, on=\"id_inmueble\", how=\"inner\")\n",
    "df_ml = df_ml.merge(df_direccion_ml, on=\"id_direccion\", how=\"inner\")\n",
    "df_ml_compra = df_ml[df_ml.tipo == \"compra\"]\n",
    "df_ml_alquiler = df_ml[df_ml.tipo == \"alquiler\"]\n",
    "df_ml_compra = df_ml_compra[list(set(df_ml_compra.columns) - set([\"id_inmueble\", \"id_direccion\", \"tipo\"]))]\n",
    "df_ml_alquiler = df_ml_alquiler[list(set(df_ml_alquiler.columns) - set([\"id_inmueble\", \"id_direccion\", \"tipo\"]))]"
   ]
  },
  {
   "cell_type": "code",
   "execution_count": 12,
   "metadata": {},
   "outputs": [],
   "source": [
    "df_ml2_compra = pd.get_dummies(df_ml_compra)\n",
    "df_ml2_alquiler = pd.get_dummies(df_ml_alquiler)"
   ]
  },
  {
   "cell_type": "code",
   "execution_count": 13,
   "metadata": {},
   "outputs": [],
   "source": [
    "def prepare_datasets(X, y):\n",
    "    scaler_x = MinMaxScaler()\n",
    "    X_scale = scaler_x.fit_transform(X)\n",
    "\n",
    "    scaler_y = MinMaxScaler()\n",
    "    y_scale = scaler_y.fit_transform(y)\n",
    "    X_train, X_test, y_train, y_test = train_test_split(X_scale, y_scale, test_size=0.3)\n",
    "\n",
    "    return scaler_x, scaler_y, X_train, X_test, y_train, y_test"
   ]
  },
  {
   "cell_type": "markdown",
   "metadata": {},
   "source": [
    "# ML Compra"
   ]
  },
  {
   "cell_type": "code",
   "execution_count": 53,
   "metadata": {},
   "outputs": [],
   "source": [
    "X_cols = list(set(df_ml2_compra.columns) - set([\"precio\"]))\n",
    "y_cols = [\"precio\"]\n",
    "X_compra = df_ml2_compra[X_cols]\n",
    "y_compra = df_ml2_compra[y_cols]"
   ]
  },
  {
   "cell_type": "code",
   "execution_count": 14,
   "metadata": {},
   "outputs": [],
   "source": [
    "scaler_x, scaler_y, X_train, X_test, y_train, y_test = prepare_datasets(X_compra, y_compra)"
   ]
  },
  {
   "cell_type": "code",
   "execution_count": 15,
   "metadata": {},
   "outputs": [
    {
     "data": {
      "text/plain": [
       "['scaler_x_compra.joblib']"
      ]
     },
     "execution_count": 15,
     "metadata": {},
     "output_type": "execute_result"
    }
   ],
   "source": [
    "import joblib\n",
    "\n",
    "joblib.dump(scaler_x, \"scaler_x_compra.joblib\")"
   ]
  },
  {
   "cell_type": "markdown",
   "metadata": {},
   "source": [
    "## Linear Regression"
   ]
  },
  {
   "cell_type": "code",
   "execution_count": 16,
   "metadata": {},
   "outputs": [
    {
     "data": {
      "text/plain": [
       "LinearRegression()"
      ]
     },
     "execution_count": 16,
     "metadata": {},
     "output_type": "execute_result"
    }
   ],
   "source": [
    "model_linear_compra = LinearRegression()\n",
    "\n",
    "model_linear_compra.fit(X_train, y_train)"
   ]
  },
  {
   "cell_type": "code",
   "execution_count": 17,
   "metadata": {},
   "outputs": [
    {
     "name": "stderr",
     "output_type": "stream",
     "text": [
      "c:\\Users\\aaira\\OneDrive\\Documentos\\tfm_eae\\myenv\\lib\\site-packages\\sklearn\\base.py:451: UserWarning: X does not have valid feature names, but MinMaxScaler was fitted with feature names\n",
      "  \"X does not have valid feature names, but\"\n"
     ]
    },
    {
     "data": {
      "text/plain": [
       "0.0010652396140664253"
      ]
     },
     "execution_count": 17,
     "metadata": {},
     "output_type": "execute_result"
    }
   ],
   "source": [
    "prediction_linear = model_linear_compra.predict(X_test)\n",
    "\n",
    "mean_squared_error(scaler_y.transform(y_test), scaler_y.transform(prediction_linear))"
   ]
  },
  {
   "cell_type": "code",
   "execution_count": 18,
   "metadata": {},
   "outputs": [
    {
     "data": {
      "text/plain": [
       "0.8218008259665702"
      ]
     },
     "execution_count": 18,
     "metadata": {},
     "output_type": "execute_result"
    }
   ],
   "source": [
    "r2_score(y_test, prediction_linear)"
   ]
  },
  {
   "cell_type": "markdown",
   "metadata": {},
   "source": [
    "## Random Forest"
   ]
  },
  {
   "cell_type": "code",
   "execution_count": 19,
   "metadata": {},
   "outputs": [
    {
     "name": "stderr",
     "output_type": "stream",
     "text": [
      "c:\\Users\\aaira\\OneDrive\\Documentos\\tfm_eae\\myenv\\lib\\site-packages\\ipykernel_launcher.py:3: DataConversionWarning: A column-vector y was passed when a 1d array was expected. Please change the shape of y to (n_samples,), for example using ravel().\n",
      "  This is separate from the ipykernel package so we can avoid doing imports until\n"
     ]
    },
    {
     "data": {
      "text/plain": [
       "RandomForestRegressor()"
      ]
     },
     "execution_count": 19,
     "metadata": {},
     "output_type": "execute_result"
    }
   ],
   "source": [
    "model_rand_forest_compra = RandomForestRegressor()\n",
    "\n",
    "model_rand_forest_compra.fit(X_train, y_train)"
   ]
  },
  {
   "cell_type": "code",
   "execution_count": 20,
   "metadata": {},
   "outputs": [
    {
     "name": "stderr",
     "output_type": "stream",
     "text": [
      "c:\\Users\\aaira\\OneDrive\\Documentos\\tfm_eae\\myenv\\lib\\site-packages\\sklearn\\base.py:451: UserWarning: X does not have valid feature names, but MinMaxScaler was fitted with feature names\n",
      "  \"X does not have valid feature names, but\"\n"
     ]
    },
    {
     "data": {
      "text/plain": [
       "6.112417109961e-05"
      ]
     },
     "execution_count": 20,
     "metadata": {},
     "output_type": "execute_result"
    }
   ],
   "source": [
    "prediction = model_rand_forest_compra.predict(X_test)\n",
    "\n",
    "mean_squared_error(scaler_y.transform(y_test), scaler_y.transform(prediction.reshape(-1,1)))"
   ]
  },
  {
   "cell_type": "code",
   "execution_count": 21,
   "metadata": {},
   "outputs": [
    {
     "data": {
      "text/plain": [
       "0.9897748106063681"
      ]
     },
     "execution_count": 21,
     "metadata": {},
     "output_type": "execute_result"
    }
   ],
   "source": [
    "r2_score(y_test, prediction)"
   ]
  },
  {
   "cell_type": "code",
   "execution_count": null,
   "metadata": {},
   "outputs": [],
   "source": [
    "df_plot_alquiler = pd.DataFrame([[random_forest_train_score,random_forest_train_mse,\"Random Forest\", \"Train\"],[random_forest_test_score, random_forest_test_mse, \"Random Forest\", \"Test\"],[linear_reg_train_score, linear_reg_train_mse, \"Linear Regression\", \"Train\"],[linear_reg_test_score,linear_reg_test_mse, \"Linear Regression\", \"Test\"]], columns=[\"Score\", \"MSE\", \"Model\", \"Data\"])"
   ]
  },
  {
   "cell_type": "code",
   "execution_count": 22,
   "metadata": {},
   "outputs": [
    {
     "data": {
      "text/plain": [
       "['model_compra.joblib']"
      ]
     },
     "execution_count": 22,
     "metadata": {},
     "output_type": "execute_result"
    }
   ],
   "source": [
    "joblib.dump(model_rand_forest_compra, \"model_compra.joblib\")"
   ]
  },
  {
   "cell_type": "markdown",
   "metadata": {},
   "source": [
    "# ML Alquiler"
   ]
  },
  {
   "cell_type": "code",
   "execution_count": 14,
   "metadata": {},
   "outputs": [],
   "source": [
    "X_cols = list(set(df_ml2_alquiler.columns) - set([\"precio\"]))\n",
    "y_cols = [\"precio\"]\n",
    "X_alquiler = df_ml2_alquiler[X_cols]\n",
    "y_alquiler = df_ml2_alquiler[y_cols]"
   ]
  },
  {
   "cell_type": "code",
   "execution_count": 15,
   "metadata": {},
   "outputs": [],
   "source": [
    "scaler_x, scaler_y, X_train, X_test, y_train, y_test = prepare_datasets(X_alquiler, y_alquiler)"
   ]
  },
  {
   "cell_type": "code",
   "execution_count": 31,
   "metadata": {},
   "outputs": [
    {
     "data": {
      "text/plain": [
       "['scaler_x_alquiler.joblib']"
      ]
     },
     "execution_count": 31,
     "metadata": {},
     "output_type": "execute_result"
    }
   ],
   "source": [
    "import joblib\n",
    "\n",
    "joblib.dump(scaler_x, \"scaler_x_alquiler.joblib\")"
   ]
  },
  {
   "cell_type": "markdown",
   "metadata": {},
   "source": [
    "## Linear Regression"
   ]
  },
  {
   "cell_type": "code",
   "execution_count": 17,
   "metadata": {},
   "outputs": [
    {
     "data": {
      "text/plain": [
       "LinearRegression()"
      ]
     },
     "execution_count": 17,
     "metadata": {},
     "output_type": "execute_result"
    }
   ],
   "source": [
    "model_linear_alquiler = LinearRegression()\n",
    "\n",
    "model_linear_alquiler.fit(X_train, y_train)"
   ]
  },
  {
   "cell_type": "code",
   "execution_count": 18,
   "metadata": {},
   "outputs": [
    {
     "name": "stdout",
     "output_type": "stream",
     "text": [
      "Train MSE -- Linear Regression: 4.105272571191167e-09\n",
      "Test MSE -- Linear Regression: 4.170441606868138e-09\n"
     ]
    },
    {
     "name": "stderr",
     "output_type": "stream",
     "text": [
      "c:\\Users\\aaira\\OneDrive\\Documentos\\tfm_eae\\myenv\\lib\\site-packages\\sklearn\\base.py:451: UserWarning: X does not have valid feature names, but MinMaxScaler was fitted with feature names\n",
      "  \"X does not have valid feature names, but\"\n",
      "c:\\Users\\aaira\\OneDrive\\Documentos\\tfm_eae\\myenv\\lib\\site-packages\\sklearn\\base.py:451: UserWarning: X does not have valid feature names, but MinMaxScaler was fitted with feature names\n",
      "  \"X does not have valid feature names, but\"\n",
      "c:\\Users\\aaira\\OneDrive\\Documentos\\tfm_eae\\myenv\\lib\\site-packages\\sklearn\\base.py:451: UserWarning: X does not have valid feature names, but MinMaxScaler was fitted with feature names\n",
      "  \"X does not have valid feature names, but\"\n",
      "c:\\Users\\aaira\\OneDrive\\Documentos\\tfm_eae\\myenv\\lib\\site-packages\\sklearn\\base.py:451: UserWarning: X does not have valid feature names, but MinMaxScaler was fitted with feature names\n",
      "  \"X does not have valid feature names, but\"\n"
     ]
    }
   ],
   "source": [
    "prediction_linear_test = model_linear_alquiler.predict(X_test)\n",
    "prediction_linear_train = model_linear_alquiler.predict(X_train)\n",
    "\n",
    "linear_reg_test_mse = mean_squared_error(scaler_y.transform(y_test), scaler_y.transform(prediction_linear_test))\n",
    "linear_reg_train_mse = mean_squared_error(scaler_y.transform(y_train), scaler_y.transform(prediction_linear_train))\n",
    "\n",
    "print(f\"Train MSE -- Linear Regression: {linear_reg_train_mse}\")\n",
    "print(f\"Test MSE -- Linear Regression: {linear_reg_test_mse}\")"
   ]
  },
  {
   "cell_type": "code",
   "execution_count": 19,
   "metadata": {},
   "outputs": [
    {
     "name": "stdout",
     "output_type": "stream",
     "text": [
      "Train Score -- Linear Regressiont: 0.764281046993852\n",
      "Test Score -- Linear Regression: 0.7557788472139244\n"
     ]
    }
   ],
   "source": [
    "linear_reg_test_score = r2_score(y_test, prediction_linear_test)\n",
    "linear_reg_train_score = r2_score(y_train, prediction_linear_train)\n",
    "\n",
    "print(f\"Train Score -- Linear Regressiont: {linear_reg_train_score}\")\n",
    "print(f\"Test Score -- Linear Regression: {linear_reg_test_score}\")"
   ]
  },
  {
   "cell_type": "markdown",
   "metadata": {},
   "source": [
    "## Random Forest"
   ]
  },
  {
   "cell_type": "code",
   "execution_count": 20,
   "metadata": {},
   "outputs": [
    {
     "name": "stderr",
     "output_type": "stream",
     "text": [
      "c:\\Users\\aaira\\OneDrive\\Documentos\\tfm_eae\\myenv\\lib\\site-packages\\ipykernel_launcher.py:3: DataConversionWarning: A column-vector y was passed when a 1d array was expected. Please change the shape of y to (n_samples,), for example using ravel().\n",
      "  This is separate from the ipykernel package so we can avoid doing imports until\n"
     ]
    }
   ],
   "source": [
    "model_rand_forest_alquiler = RandomForestRegressor()\n",
    "\n",
    "model_rand_forest_alquiler.fit(X_train, y_train)\n",
    "\n",
    "prediction_rand_forest_test = model_rand_forest_alquiler.predict(X_test)\n",
    "prediction_rand_forest_train = model_rand_forest_alquiler.predict(X_train)"
   ]
  },
  {
   "cell_type": "code",
   "execution_count": 21,
   "metadata": {},
   "outputs": [
    {
     "name": "stdout",
     "output_type": "stream",
     "text": [
      "Train MSE -- Random Forest: 7.588980110210483e-11\n",
      "Test MSE -- Random Forest: 4.4391869004000117e-10\n"
     ]
    },
    {
     "name": "stderr",
     "output_type": "stream",
     "text": [
      "c:\\Users\\aaira\\OneDrive\\Documentos\\tfm_eae\\myenv\\lib\\site-packages\\sklearn\\base.py:451: UserWarning: X does not have valid feature names, but MinMaxScaler was fitted with feature names\n",
      "  \"X does not have valid feature names, but\"\n",
      "c:\\Users\\aaira\\OneDrive\\Documentos\\tfm_eae\\myenv\\lib\\site-packages\\sklearn\\base.py:451: UserWarning: X does not have valid feature names, but MinMaxScaler was fitted with feature names\n",
      "  \"X does not have valid feature names, but\"\n",
      "c:\\Users\\aaira\\OneDrive\\Documentos\\tfm_eae\\myenv\\lib\\site-packages\\sklearn\\base.py:451: UserWarning: X does not have valid feature names, but MinMaxScaler was fitted with feature names\n",
      "  \"X does not have valid feature names, but\"\n",
      "c:\\Users\\aaira\\OneDrive\\Documentos\\tfm_eae\\myenv\\lib\\site-packages\\sklearn\\base.py:451: UserWarning: X does not have valid feature names, but MinMaxScaler was fitted with feature names\n",
      "  \"X does not have valid feature names, but\"\n"
     ]
    }
   ],
   "source": [
    "random_forest_test_mse = mean_squared_error(scaler_y.transform(y_test), scaler_y.transform(prediction_rand_forest_test.reshape(-1,1)))\n",
    "random_forest_train_mse = mean_squared_error(scaler_y.transform(y_train), scaler_y.transform(prediction_rand_forest_train.reshape(-1,1)))\n",
    "\n",
    "print(f\"Train MSE -- Random Forest: {random_forest_train_mse}\")\n",
    "print(f\"Test MSE -- Random Forest: {random_forest_test_mse}\")"
   ]
  },
  {
   "cell_type": "code",
   "execution_count": 60,
   "metadata": {},
   "outputs": [
    {
     "data": {
      "text/html": [
       "<div>\n",
       "<style scoped>\n",
       "    .dataframe tbody tr th:only-of-type {\n",
       "        vertical-align: middle;\n",
       "    }\n",
       "\n",
       "    .dataframe tbody tr th {\n",
       "        vertical-align: top;\n",
       "    }\n",
       "\n",
       "    .dataframe thead th {\n",
       "        text-align: right;\n",
       "    }\n",
       "</style>\n",
       "<table border=\"1\" class=\"dataframe\">\n",
       "  <thead>\n",
       "    <tr style=\"text-align: right;\">\n",
       "      <th></th>\n",
       "      <th>test</th>\n",
       "      <th>pred</th>\n",
       "    </tr>\n",
       "  </thead>\n",
       "  <tbody>\n",
       "    <tr>\n",
       "      <th>0</th>\n",
       "      <td>1553.00</td>\n",
       "      <td>1797.000000</td>\n",
       "    </tr>\n",
       "    <tr>\n",
       "      <th>1</th>\n",
       "      <td>1485.00</td>\n",
       "      <td>2432.000000</td>\n",
       "    </tr>\n",
       "    <tr>\n",
       "      <th>2</th>\n",
       "      <td>2514.00</td>\n",
       "      <td>942.000000</td>\n",
       "    </tr>\n",
       "    <tr>\n",
       "      <th>3</th>\n",
       "      <td>1138.00</td>\n",
       "      <td>1081.000000</td>\n",
       "    </tr>\n",
       "    <tr>\n",
       "      <th>4</th>\n",
       "      <td>871.00</td>\n",
       "      <td>979.000000</td>\n",
       "    </tr>\n",
       "    <tr>\n",
       "      <th>...</th>\n",
       "      <td>...</td>\n",
       "      <td>...</td>\n",
       "    </tr>\n",
       "    <tr>\n",
       "      <th>14215</th>\n",
       "      <td>1472.91</td>\n",
       "      <td>1885.400000</td>\n",
       "    </tr>\n",
       "    <tr>\n",
       "      <th>14216</th>\n",
       "      <td>2143.19</td>\n",
       "      <td>2309.500000</td>\n",
       "    </tr>\n",
       "    <tr>\n",
       "      <th>14217</th>\n",
       "      <td>1654.36</td>\n",
       "      <td>1115.060000</td>\n",
       "    </tr>\n",
       "    <tr>\n",
       "      <th>14218</th>\n",
       "      <td>961.65</td>\n",
       "      <td>895.085833</td>\n",
       "    </tr>\n",
       "    <tr>\n",
       "      <th>14219</th>\n",
       "      <td>1272.29</td>\n",
       "      <td>1208.410000</td>\n",
       "    </tr>\n",
       "  </tbody>\n",
       "</table>\n",
       "<p>14220 rows × 2 columns</p>\n",
       "</div>"
      ],
      "text/plain": [
       "          test         pred\n",
       "0      1553.00  1797.000000\n",
       "1      1485.00  2432.000000\n",
       "2      2514.00   942.000000\n",
       "3      1138.00  1081.000000\n",
       "4       871.00   979.000000\n",
       "...        ...          ...\n",
       "14215  1472.91  1885.400000\n",
       "14216  2143.19  2309.500000\n",
       "14217  1654.36  1115.060000\n",
       "14218   961.65   895.085833\n",
       "14219  1272.29  1208.410000\n",
       "\n",
       "[14220 rows x 2 columns]"
      ]
     },
     "execution_count": 60,
     "metadata": {},
     "output_type": "execute_result"
    }
   ],
   "source": [
    "pd.DataFrame(np.array([list(y_test.precio.values), list(prediction_test)]).reshape(-1,2), columns=[\"test\", \"pred\"], index = range(0,len(list(y_test.precio.values))))"
   ]
  },
  {
   "cell_type": "code",
   "execution_count": 22,
   "metadata": {},
   "outputs": [
    {
     "name": "stdout",
     "output_type": "stream",
     "text": [
      "Train Score -- Random Forest: 0.9956425148027521\n",
      "Test Score -- Random Forest: 0.9740041116877621\n"
     ]
    }
   ],
   "source": [
    "random_forest_test_score = r2_score(y_test, prediction_rand_forest_test)\n",
    "random_forest_train_score = r2_score(y_train, prediction_rand_forest_train)\n",
    "\n",
    "print(f\"Train Score -- Random Forest: {random_forest_train_score}\")\n",
    "print(f\"Test Score -- Random Forest: {random_forest_test_score}\")"
   ]
  },
  {
   "cell_type": "code",
   "execution_count": 99,
   "metadata": {},
   "outputs": [
    {
     "data": {
      "text/plain": [
       "8800000.0"
      ]
     },
     "execution_count": 99,
     "metadata": {},
     "output_type": "execute_result"
    }
   ],
   "source": [
    "df_ml[df_ml.tipo==\"compra\"].precio.max()"
   ]
  },
  {
   "cell_type": "code",
   "execution_count": 37,
   "metadata": {},
   "outputs": [
    {
     "name": "stderr",
     "output_type": "stream",
     "text": [
      "c:\\Users\\aaira\\OneDrive\\Documentos\\tfm_eae\\myenv\\lib\\site-packages\\sklearn\\base.py:493: FutureWarning: The feature names should match those that were passed during fit. Starting version 1.2, an error will be raised.\n",
      "Feature names must be in the same order as they were in fit.\n",
      "\n",
      "  warnings.warn(message, FutureWarning)\n"
     ]
    }
   ],
   "source": [
    "#Parámetros:\n",
    "distrito = \"chamartin\"\n",
    "num_piso = \"5\"\n",
    "orientacion = \"sur\"\n",
    "terraza = True\n",
    "num_lavabos = 2\n",
    "parking = False\n",
    "exterior = True\n",
    "ascensor = True\n",
    "superficie = 180\n",
    "num_habitaciones = 3\n",
    "balcon = False\n",
    "piscina = True\n",
    "\n",
    "cols = ['piso_4', 'distrito_moratalaz', 'tipo_propiedad_duplex',\n",
    "       'orientacion_norte', 'piso_9', 'tipo_propiedad_pisos',\n",
    "       'distrito_villaverde', 'distrito_chamberi', 'num_lavabos',\n",
    "       'distrito_tetuan', 'piso_6', 'num_habitaciones', 'superficie',\n",
    "       'distrito_ciudad lineal', 'piso_7', 'piso_0', 'ascensor',\n",
    "       'tipo_propiedad_aticos', 'terraza', 'piscina', 'distrito_chamartin',\n",
    "       'distrito_vicalvaro', 'distrito_moncloa', 'orientacion_sur',\n",
    "       'distrito_barajas', 'distrito_hortaleza', 'distrito_usera',\n",
    "       'orientacion_oeste', 'piso_8', 'piso_3', 'distrito_retiro',\n",
    "       'distrito_carabanchel', 'orientacion_este', 'parking',\n",
    "       'distrito_puente de vallecas', 'distrito_villa de vallecas', 'piso_5',\n",
    "       'piso_1', 'distrito_arganzuela', 'piso_2', 'distrito_centro',\n",
    "       'distrito_latina', 'ha_zonasverdes', 'exterior', 'distrito_fuencarral',\n",
    "       'distrito_salamanca', 'balcon']\n",
    "\n",
    "df = pd.DataFrame(np.zeros(len(cols),dtype=np.int32).reshape(1,-1), columns=cols)\n",
    "\n",
    "#Parametros\n",
    "df[\"terraza\"] = int(terraza)\n",
    "df[\"num_lavabos\"] = int(num_lavabos)\n",
    "df[\"parking\"] = int(parking)\n",
    "df[\"exterior\"] = int(exterior)\n",
    "df[\"ascensor\"] = int(ascensor)\n",
    "df[\"superficie\"] = int(superficie)\n",
    "df[\"num_habitaciones\"] = int(num_habitaciones)\n",
    "df[\"balcon\"] = int(balcon)\n",
    "df[\"piscina\"] = int(piscina)\n",
    "df[f\"distrito_{distrito}\"] = 1\n",
    "df[f\"piso_{num_piso}\"] = 1\n",
    "df[f\"orientacion_{orientacion}\"] = 1\n",
    "\n",
    "df_scale_alquiler = scaler_x.transform(df)\n",
    "prediction_alquiler = model_rand_forest_alquiler.predict(df_scale_alquiler)"
   ]
  },
  {
   "cell_type": "code",
   "execution_count": 38,
   "metadata": {},
   "outputs": [
    {
     "data": {
      "text/plain": [
       "array([[798.95]])"
      ]
     },
     "execution_count": 38,
     "metadata": {},
     "output_type": "execute_result"
    }
   ],
   "source": [
    "scaler_y.inverse_transform(prediction_alquiler.reshape(1,-1))"
   ]
  },
  {
   "cell_type": "code",
   "execution_count": 76,
   "metadata": {},
   "outputs": [
    {
     "name": "stdout",
     "output_type": "stream",
     "text": [
      "Collecting xgboost\n",
      "  Using cached xgboost-1.6.2-py3-none-win_amd64.whl (125.4 MB)\n",
      "Requirement already satisfied: scipy in c:\\users\\aaira\\onedrive\\documentos\\tfm_eae\\myenv\\lib\\site-packages (from xgboost) (1.7.3)\n",
      "Requirement already satisfied: numpy in c:\\users\\aaira\\onedrive\\documentos\\tfm_eae\\myenv\\lib\\site-packages (from xgboost) (1.21.6)\n",
      "Installing collected packages: xgboost\n",
      "Successfully installed xgboost-1.6.2\n"
     ]
    },
    {
     "name": "stderr",
     "output_type": "stream",
     "text": [
      "WARNING: You are using pip version 20.1.1; however, version 23.2.1 is available.\n",
      "You should consider upgrading via the 'c:\\users\\aaira\\onedrive\\documentos\\tfm_eae\\myenv\\scripts\\python.exe -m pip install --upgrade pip' command.\n"
     ]
    }
   ],
   "source": [
    "!pip install xgboost"
   ]
  },
  {
   "cell_type": "code",
   "execution_count": 27,
   "metadata": {},
   "outputs": [],
   "source": [
    "import xgboost as xgb"
   ]
  },
  {
   "cell_type": "code",
   "execution_count": 28,
   "metadata": {},
   "outputs": [],
   "source": [
    "xgb_regressor = xgb.XGBRegressor(objective='reg:squarederror', n_estimators=300, random_state=42)\n",
    "xgb_regressor.fit(X_train, y_train)\n",
    "\n",
    "# Make predictions on the test set\n",
    "y_pred = xgb_regressor.predict(X_test)\n"
   ]
  },
  {
   "cell_type": "code",
   "execution_count": 30,
   "metadata": {},
   "outputs": [
    {
     "data": {
      "text/plain": [
       "array([[1436.61  , 1771.8088, 1525.1814, ...,  837.2432, 1168.9717,\n",
       "        1221.6355]], dtype=float32)"
      ]
     },
     "execution_count": 30,
     "metadata": {},
     "output_type": "execute_result"
    }
   ],
   "source": [
    "scaler_y.inverse_transform(y_pred.reshape(1,-1))"
   ]
  },
  {
   "cell_type": "code",
   "execution_count": 41,
   "metadata": {},
   "outputs": [],
   "source": [
    "prediction_alquiler_xgb = xgb_regressor.predict(df_scale_alquiler)"
   ]
  },
  {
   "cell_type": "code",
   "execution_count": 42,
   "metadata": {},
   "outputs": [
    {
     "data": {
      "text/plain": [
       "array([[768.687]], dtype=float32)"
      ]
     },
     "execution_count": 42,
     "metadata": {},
     "output_type": "execute_result"
    }
   ],
   "source": [
    "scaler_y.inverse_transform(prediction_alquiler_xgb.reshape(-1,1))"
   ]
  },
  {
   "cell_type": "code",
   "execution_count": 137,
   "metadata": {},
   "outputs": [
    {
     "data": {
      "text/plain": [
       "array([[947.23142857]])"
      ]
     },
     "execution_count": 137,
     "metadata": {},
     "output_type": "execute_result"
    }
   ],
   "source": [
    "scaler_y.inverse_transform(prediction_alquiler.reshape(-1,1))"
   ]
  },
  {
   "cell_type": "code",
   "execution_count": 98,
   "metadata": {},
   "outputs": [
    {
     "data": {
      "text/plain": [
       "array([[1496.],\n",
       "       [ 743.],\n",
       "       [1122.],\n",
       "       ...,\n",
       "       [ 535.],\n",
       "       [ 979.],\n",
       "       [1950.]])"
      ]
     },
     "execution_count": 98,
     "metadata": {},
     "output_type": "execute_result"
    }
   ],
   "source": [
    "scaler_y.inverse_transform(y_test)"
   ]
  },
  {
   "cell_type": "code",
   "execution_count": 99,
   "metadata": {},
   "outputs": [
    {
     "data": {
      "text/plain": [
       "array([[1561.76   ],\n",
       "       [ 698.73285],\n",
       "       [1060.9255 ],\n",
       "       ...,\n",
       "       [ 558.60986],\n",
       "       [ 938.7393 ],\n",
       "       [1786.5328 ]], dtype=float32)"
      ]
     },
     "execution_count": 99,
     "metadata": {},
     "output_type": "execute_result"
    }
   ],
   "source": [
    "scaler_y.inverse_transform(y_pred.reshape(-1,1))"
   ]
  },
  {
   "cell_type": "code",
   "execution_count": 119,
   "metadata": {},
   "outputs": [
    {
     "data": {
      "text/plain": [
       "array([[1501.98     ],\n",
       "       [ 723.2528254],\n",
       "       [1113.32     ],\n",
       "       ...,\n",
       "       [ 541.02     ],\n",
       "       [ 879.82     ],\n",
       "       [1950.       ]])"
      ]
     },
     "execution_count": 119,
     "metadata": {},
     "output_type": "execute_result"
    }
   ],
   "source": [
    "scaler_y.inverse_transform(prediction_rand_forest_test.reshape(-1,1))"
   ]
  },
  {
   "cell_type": "code",
   "execution_count": 104,
   "metadata": {},
   "outputs": [
    {
     "data": {
      "text/plain": [
       "array([1.        , 0.        , 0.        , 0.        , 0.        ,\n",
       "       1.        , 0.        , 0.        , 0.14285714, 0.        ,\n",
       "       0.        , 0.28571429, 0.16124031, 0.        , 0.        ,\n",
       "       0.        , 1.        , 0.        , 0.        , 0.        ,\n",
       "       1.        , 0.        , 0.        , 0.        , 0.        ,\n",
       "       0.        , 0.        , 0.        , 0.        , 0.        ,\n",
       "       0.        , 0.        , 1.        , 0.        , 0.        ,\n",
       "       0.        , 0.        , 0.        , 0.        , 0.        ,\n",
       "       0.        , 0.        , 0.12845403, 0.        , 0.        ,\n",
       "       0.        , 0.        ])"
      ]
     },
     "execution_count": 104,
     "metadata": {},
     "output_type": "execute_result"
    }
   ],
   "source": [
    "X_test[0,:]"
   ]
  },
  {
   "cell_type": "code",
   "execution_count": 112,
   "metadata": {},
   "outputs": [],
   "source": [
    "importance_scores = xgb_regressor.feature_importances_\n",
    "\n",
    "feature_names = X_alquiler.columns\n",
    "\n",
    "# Create a list of tuples with feature names and their importance scores\n",
    "feature_importance_list = list(zip(feature_names, importance_scores))\n",
    "\n",
    "# Sort the list by importance scores in descending order\n",
    "feature_importance_list.sort(key=lambda x: x[1], reverse=True)\n"
   ]
  },
  {
   "cell_type": "code",
   "execution_count": 113,
   "metadata": {},
   "outputs": [
    {
     "data": {
      "text/plain": [
       "[('ha_zonasverdes', 0.21582854),\n",
       " ('superficie', 0.10409194),\n",
       " ('ascensor', 0.083828196),\n",
       " ('distrito_usera', 0.06957047),\n",
       " ('distrito_carabanchel', 0.05561314),\n",
       " ('distrito_villaverde', 0.04866381),\n",
       " ('num_lavabos', 0.0394291),\n",
       " ('piscina', 0.031150794),\n",
       " ('distrito_moncloa', 0.029766262),\n",
       " ('distrito_puente de vallecas', 0.025995608),\n",
       " ('distrito_villa de vallecas', 0.023718916),\n",
       " ('tipo_propiedad_aticos', 0.017765705),\n",
       " ('piso_0', 0.017572185),\n",
       " ('piso_9', 0.012957644),\n",
       " ('parking', 0.012521335),\n",
       " ('distrito_moratalaz', 0.012190154),\n",
       " ('distrito_chamartin', 0.012129704),\n",
       " ('distrito_salamanca', 0.011835762),\n",
       " ('piso_8', 0.01037398),\n",
       " ('num_habitaciones', 0.009906537),\n",
       " ('distrito_latina', 0.009801726),\n",
       " ('distrito_vicalvaro', 0.009493509),\n",
       " ('piso_2', 0.009163918),\n",
       " ('distrito_chamberi', 0.0075079254),\n",
       " ('piso_3', 0.007057857),\n",
       " ('piso_1', 0.006989887),\n",
       " ('exterior', 0.0066698547),\n",
       " ('tipo_propiedad_pisos', 0.006504514),\n",
       " ('distrito_centro', 0.0064146165),\n",
       " ('distrito_hortaleza', 0.0063503645),\n",
       " ('orientacion_este', 0.006243811),\n",
       " ('terraza', 0.006210587),\n",
       " ('orientacion_oeste', 0.006136944),\n",
       " ('distrito_tetuan', 0.0061224536),\n",
       " ('piso_7', 0.006056496),\n",
       " ('distrito_retiro', 0.005888283),\n",
       " ('tipo_propiedad_duplex', 0.0056235488),\n",
       " ('piso_4', 0.005353395),\n",
       " ('distrito_ciudad lineal', 0.005342691),\n",
       " ('piso_5', 0.00511292),\n",
       " ('orientacion_sur', 0.0050253756),\n",
       " ('piso_6', 0.004773456),\n",
       " ('balcon', 0.003685693),\n",
       " ('distrito_arganzuela', 0.0032993236),\n",
       " ('orientacion_norte', 0.003113243),\n",
       " ('distrito_barajas', 0.0011478453),\n",
       " ('distrito_fuencarral', 0.0)]"
      ]
     },
     "execution_count": 113,
     "metadata": {},
     "output_type": "execute_result"
    }
   ],
   "source": [
    "feature_importance_list"
   ]
  },
  {
   "cell_type": "code",
   "execution_count": 109,
   "metadata": {},
   "outputs": [
    {
     "data": {
      "text/plain": [
       "array([[  1.  ,   0.  ,   0.  ,   0.  ,   0.  ,   1.  ,   0.  ,   0.  ,\n",
       "          2.  ,   0.  ,   0.  ,   4.  , 120.  ,   0.  ,   0.  ,   0.  ,\n",
       "          1.  ,   0.  ,   0.  ,   0.  ,   1.  ,   0.  ,   0.  ,   0.  ,\n",
       "          0.  ,   0.  ,   0.  ,   0.  ,   0.  ,   0.  ,   0.  ,   0.  ,\n",
       "          1.  ,   0.  ,   0.  ,   0.  ,   0.  ,   0.  ,   0.  ,   0.  ,\n",
       "          0.  ,   0.  ,  55.98,   0.  ,   0.  ,   0.  ,   0.  ]])"
      ]
     },
     "execution_count": 109,
     "metadata": {},
     "output_type": "execute_result"
    }
   ],
   "source": [
    "scaler_x.inverse_transform(X_test[0,:].reshape(1,-1))"
   ]
  },
  {
   "cell_type": "code",
   "execution_count": 110,
   "metadata": {},
   "outputs": [
    {
     "data": {
      "text/html": [
       "<div>\n",
       "<style scoped>\n",
       "    .dataframe tbody tr th:only-of-type {\n",
       "        vertical-align: middle;\n",
       "    }\n",
       "\n",
       "    .dataframe tbody tr th {\n",
       "        vertical-align: top;\n",
       "    }\n",
       "\n",
       "    .dataframe thead th {\n",
       "        text-align: right;\n",
       "    }\n",
       "</style>\n",
       "<table border=\"1\" class=\"dataframe\">\n",
       "  <thead>\n",
       "    <tr style=\"text-align: right;\">\n",
       "      <th></th>\n",
       "      <th>distrito_tetuan</th>\n",
       "      <th>terraza</th>\n",
       "      <th>distrito_vicalvaro</th>\n",
       "      <th>piso_7</th>\n",
       "      <th>num_lavabos</th>\n",
       "      <th>piso_6</th>\n",
       "      <th>orientacion_norte</th>\n",
       "      <th>distrito_carabanchel</th>\n",
       "      <th>distrito_latina</th>\n",
       "      <th>distrito_salamanca</th>\n",
       "      <th>...</th>\n",
       "      <th>distrito_usera</th>\n",
       "      <th>distrito_chamartin</th>\n",
       "      <th>piso_2</th>\n",
       "      <th>ha_zonasverdes</th>\n",
       "      <th>piso_5</th>\n",
       "      <th>piso_9</th>\n",
       "      <th>orientacion_oeste</th>\n",
       "      <th>distrito_moratalaz</th>\n",
       "      <th>distrito_chamberi</th>\n",
       "      <th>distrito_barajas</th>\n",
       "    </tr>\n",
       "  </thead>\n",
       "  <tbody>\n",
       "    <tr>\n",
       "      <th>0</th>\n",
       "      <td>1.0</td>\n",
       "      <td>0.0</td>\n",
       "      <td>0.0</td>\n",
       "      <td>0.0</td>\n",
       "      <td>0.0</td>\n",
       "      <td>1.0</td>\n",
       "      <td>0.0</td>\n",
       "      <td>0.0</td>\n",
       "      <td>2.0</td>\n",
       "      <td>0.0</td>\n",
       "      <td>...</td>\n",
       "      <td>0.0</td>\n",
       "      <td>0.0</td>\n",
       "      <td>0.0</td>\n",
       "      <td>0.0</td>\n",
       "      <td>0.0</td>\n",
       "      <td>55.98</td>\n",
       "      <td>0.0</td>\n",
       "      <td>0.0</td>\n",
       "      <td>0.0</td>\n",
       "      <td>0.0</td>\n",
       "    </tr>\n",
       "  </tbody>\n",
       "</table>\n",
       "<p>1 rows × 47 columns</p>\n",
       "</div>"
      ],
      "text/plain": [
       "   distrito_tetuan  terraza  distrito_vicalvaro  piso_7  num_lavabos  piso_6  \\\n",
       "0              1.0      0.0                 0.0     0.0          0.0     1.0   \n",
       "\n",
       "   orientacion_norte  distrito_carabanchel  distrito_latina  \\\n",
       "0                0.0                   0.0              2.0   \n",
       "\n",
       "   distrito_salamanca  ...  distrito_usera  distrito_chamartin  piso_2  \\\n",
       "0                 0.0  ...             0.0                 0.0     0.0   \n",
       "\n",
       "   ha_zonasverdes  piso_5  piso_9  orientacion_oeste  distrito_moratalaz  \\\n",
       "0             0.0     0.0   55.98                0.0                 0.0   \n",
       "\n",
       "   distrito_chamberi  distrito_barajas  \n",
       "0                0.0               0.0  \n",
       "\n",
       "[1 rows x 47 columns]"
      ]
     },
     "execution_count": 110,
     "metadata": {},
     "output_type": "execute_result"
    }
   ],
   "source": [
    "pd.DataFrame(scaler_x.inverse_transform(X_test[0,:].reshape(1,-1)), columns=cols)"
   ]
  },
  {
   "cell_type": "code",
   "execution_count": 115,
   "metadata": {},
   "outputs": [
    {
     "data": {
      "text/html": [
       "<div>\n",
       "<style scoped>\n",
       "    .dataframe tbody tr th:only-of-type {\n",
       "        vertical-align: middle;\n",
       "    }\n",
       "\n",
       "    .dataframe tbody tr th {\n",
       "        vertical-align: top;\n",
       "    }\n",
       "\n",
       "    .dataframe thead th {\n",
       "        text-align: right;\n",
       "    }\n",
       "</style>\n",
       "<table border=\"1\" class=\"dataframe\">\n",
       "  <thead>\n",
       "    <tr style=\"text-align: right;\">\n",
       "      <th></th>\n",
       "      <th>piso_4</th>\n",
       "      <th>distrito_moratalaz</th>\n",
       "      <th>tipo_propiedad_duplex</th>\n",
       "      <th>orientacion_norte</th>\n",
       "      <th>piso_9</th>\n",
       "      <th>tipo_propiedad_pisos</th>\n",
       "      <th>distrito_villaverde</th>\n",
       "      <th>distrito_chamberi</th>\n",
       "      <th>num_lavabos</th>\n",
       "      <th>distrito_tetuan</th>\n",
       "      <th>...</th>\n",
       "      <th>piso_1</th>\n",
       "      <th>distrito_arganzuela</th>\n",
       "      <th>piso_2</th>\n",
       "      <th>distrito_centro</th>\n",
       "      <th>distrito_latina</th>\n",
       "      <th>ha_zonasverdes</th>\n",
       "      <th>exterior</th>\n",
       "      <th>distrito_fuencarral</th>\n",
       "      <th>distrito_salamanca</th>\n",
       "      <th>balcon</th>\n",
       "    </tr>\n",
       "  </thead>\n",
       "  <tbody>\n",
       "    <tr>\n",
       "      <th>0</th>\n",
       "      <td>1.0</td>\n",
       "      <td>0.0</td>\n",
       "      <td>0.0</td>\n",
       "      <td>0.0</td>\n",
       "      <td>0.0</td>\n",
       "      <td>1.0</td>\n",
       "      <td>0.0</td>\n",
       "      <td>0.0</td>\n",
       "      <td>2.0</td>\n",
       "      <td>0.0</td>\n",
       "      <td>...</td>\n",
       "      <td>0.0</td>\n",
       "      <td>0.0</td>\n",
       "      <td>0.0</td>\n",
       "      <td>0.0</td>\n",
       "      <td>0.0</td>\n",
       "      <td>55.98</td>\n",
       "      <td>0.0</td>\n",
       "      <td>0.0</td>\n",
       "      <td>0.0</td>\n",
       "      <td>0.0</td>\n",
       "    </tr>\n",
       "  </tbody>\n",
       "</table>\n",
       "<p>1 rows × 47 columns</p>\n",
       "</div>"
      ],
      "text/plain": [
       "   piso_4  distrito_moratalaz  tipo_propiedad_duplex  orientacion_norte  \\\n",
       "0     1.0                 0.0                    0.0                0.0   \n",
       "\n",
       "   piso_9  tipo_propiedad_pisos  distrito_villaverde  distrito_chamberi  \\\n",
       "0     0.0                   1.0                  0.0                0.0   \n",
       "\n",
       "   num_lavabos  distrito_tetuan  ...  piso_1  distrito_arganzuela  piso_2  \\\n",
       "0          2.0              0.0  ...     0.0                  0.0     0.0   \n",
       "\n",
       "   distrito_centro  distrito_latina  ha_zonasverdes  exterior  \\\n",
       "0              0.0              0.0           55.98       0.0   \n",
       "\n",
       "   distrito_fuencarral  distrito_salamanca  balcon  \n",
       "0                  0.0                 0.0     0.0  \n",
       "\n",
       "[1 rows x 47 columns]"
      ]
     },
     "execution_count": 115,
     "metadata": {},
     "output_type": "execute_result"
    }
   ],
   "source": [
    "pd.DataFrame(scaler_x.inverse_transform(X_test[0,:].reshape(1,-1)), columns=X_alquiler.columns)"
   ]
  },
  {
   "cell_type": "code",
   "execution_count": 114,
   "metadata": {},
   "outputs": [
    {
     "data": {
      "text/plain": [
       "Index(['piso_4', 'distrito_moratalaz', 'tipo_propiedad_duplex',\n",
       "       'orientacion_norte', 'piso_9', 'tipo_propiedad_pisos',\n",
       "       'distrito_villaverde', 'distrito_chamberi', 'num_lavabos',\n",
       "       'distrito_tetuan', 'piso_6', 'num_habitaciones', 'superficie',\n",
       "       'distrito_ciudad lineal', 'piso_7', 'piso_0', 'ascensor',\n",
       "       'tipo_propiedad_aticos', 'terraza', 'piscina', 'distrito_chamartin',\n",
       "       'distrito_vicalvaro', 'distrito_moncloa', 'orientacion_sur',\n",
       "       'distrito_barajas', 'distrito_hortaleza', 'distrito_usera',\n",
       "       'orientacion_oeste', 'piso_8', 'piso_3', 'distrito_retiro',\n",
       "       'distrito_carabanchel', 'orientacion_este', 'parking',\n",
       "       'distrito_puente de vallecas', 'distrito_villa de vallecas', 'piso_5',\n",
       "       'piso_1', 'distrito_arganzuela', 'piso_2', 'distrito_centro',\n",
       "       'distrito_latina', 'ha_zonasverdes', 'exterior', 'distrito_fuencarral',\n",
       "       'distrito_salamanca', 'balcon'],\n",
       "      dtype='object')"
      ]
     },
     "execution_count": 114,
     "metadata": {},
     "output_type": "execute_result"
    }
   ],
   "source": [
    "X_alquiler.columns"
   ]
  },
  {
   "cell_type": "code",
   "execution_count": 105,
   "metadata": {},
   "outputs": [
    {
     "data": {
      "text/plain": [
       "['distrito_tetuan',\n",
       " 'terraza',\n",
       " 'distrito_vicalvaro',\n",
       " 'piso_7',\n",
       " 'num_lavabos',\n",
       " 'piso_6',\n",
       " 'orientacion_norte',\n",
       " 'distrito_carabanchel',\n",
       " 'distrito_latina',\n",
       " 'distrito_salamanca',\n",
       " 'tipo_propiedad_pisos',\n",
       " 'tipo_propiedad_duplex',\n",
       " 'distrito_arganzuela',\n",
       " 'distrito_hortaleza',\n",
       " 'tipo_propiedad_aticos',\n",
       " 'piso_1',\n",
       " 'piso_8',\n",
       " 'piscina',\n",
       " 'piso_3',\n",
       " 'piso_0',\n",
       " 'distrito_villaverde',\n",
       " 'parking',\n",
       " 'distrito_ciudad lineal',\n",
       " 'exterior',\n",
       " 'distrito_centro',\n",
       " 'distrito_villa de vallecas',\n",
       " 'orientacion_este',\n",
       " 'distrito_puente de vallecas',\n",
       " 'orientacion_sur',\n",
       " 'distrito_fuencarral',\n",
       " 'distrito_moncloa',\n",
       " 'ascensor',\n",
       " 'superficie',\n",
       " 'piso_4',\n",
       " 'num_habitaciones',\n",
       " 'balcon',\n",
       " 'distrito_retiro',\n",
       " 'distrito_usera',\n",
       " 'distrito_chamartin',\n",
       " 'piso_2',\n",
       " 'ha_zonasverdes',\n",
       " 'piso_5',\n",
       " 'piso_9',\n",
       " 'orientacion_oeste',\n",
       " 'distrito_moratalaz',\n",
       " 'distrito_chamberi',\n",
       " 'distrito_barajas']"
      ]
     },
     "execution_count": 105,
     "metadata": {},
     "output_type": "execute_result"
    }
   ],
   "source": [
    "cols"
   ]
  },
  {
   "cell_type": "code",
   "execution_count": 97,
   "metadata": {},
   "outputs": [
    {
     "data": {
      "text/plain": [
       "0.953743282644606"
      ]
     },
     "execution_count": 97,
     "metadata": {},
     "output_type": "execute_result"
    }
   ],
   "source": [
    "r2_score(scaler_y.inverse_transform(y_test), scaler_y.inverse_transform(y_pred.reshape(-1,1)))"
   ]
  },
  {
   "cell_type": "code",
   "execution_count": 92,
   "metadata": {},
   "outputs": [
    {
     "data": {
      "text/plain": [
       "array([[715.2]])"
      ]
     },
     "execution_count": 92,
     "metadata": {},
     "output_type": "execute_result"
    }
   ],
   "source": [
    "scaler_y.inverse_transform(prediction_alquiler.reshape(-1,1))"
   ]
  },
  {
   "cell_type": "code",
   "execution_count": 128,
   "metadata": {},
   "outputs": [],
   "source": [
    "import seaborn as sns"
   ]
  },
  {
   "cell_type": "code",
   "execution_count": 135,
   "metadata": {},
   "outputs": [],
   "source": [
    "df_plot_alquiler = pd.DataFrame([[random_forest_train_score,random_forest_train_mse,\"Random Forest\", \"Train\"],[random_forest_test_score, random_forest_test_mse, \"Random Forest\", \"Test\"],[linear_reg_train_score, linear_reg_train_mse, \"Linear Regression\", \"Train\"],[linear_reg_test_score,linear_reg_test_mse, \"Linear Regression\", \"Test\"]], columns=[\"Score\", \"MSE\", \"Model\", \"Data\"])"
   ]
  },
  {
   "cell_type": "code",
   "execution_count": 138,
   "metadata": {},
   "outputs": [
    {
     "data": {
      "text/html": [
       "<div>\n",
       "<style scoped>\n",
       "    .dataframe tbody tr th:only-of-type {\n",
       "        vertical-align: middle;\n",
       "    }\n",
       "\n",
       "    .dataframe tbody tr th {\n",
       "        vertical-align: top;\n",
       "    }\n",
       "\n",
       "    .dataframe thead th {\n",
       "        text-align: right;\n",
       "    }\n",
       "</style>\n",
       "<table border=\"1\" class=\"dataframe\">\n",
       "  <thead>\n",
       "    <tr style=\"text-align: right;\">\n",
       "      <th></th>\n",
       "      <th>Score</th>\n",
       "      <th>MSE</th>\n",
       "      <th>Model</th>\n",
       "      <th>Data</th>\n",
       "    </tr>\n",
       "  </thead>\n",
       "  <tbody>\n",
       "    <tr>\n",
       "      <th>0</th>\n",
       "      <td>0.996429</td>\n",
       "      <td>8.961130e-07</td>\n",
       "      <td>Random Forest</td>\n",
       "      <td>Train</td>\n",
       "    </tr>\n",
       "    <tr>\n",
       "      <th>1</th>\n",
       "      <td>0.952891</td>\n",
       "      <td>1.197755e-05</td>\n",
       "      <td>Random Forest</td>\n",
       "      <td>Test</td>\n",
       "    </tr>\n",
       "    <tr>\n",
       "      <th>2</th>\n",
       "      <td>0.079845</td>\n",
       "      <td>2.309273e-04</td>\n",
       "      <td>Linear Regression</td>\n",
       "      <td>Train</td>\n",
       "    </tr>\n",
       "    <tr>\n",
       "      <th>3</th>\n",
       "      <td>0.081923</td>\n",
       "      <td>2.334223e-04</td>\n",
       "      <td>Linear Regression</td>\n",
       "      <td>Test</td>\n",
       "    </tr>\n",
       "  </tbody>\n",
       "</table>\n",
       "</div>"
      ],
      "text/plain": [
       "      Score           MSE              Model   Data\n",
       "0  0.996429  8.961130e-07      Random Forest  Train\n",
       "1  0.952891  1.197755e-05      Random Forest   Test\n",
       "2  0.079845  2.309273e-04  Linear Regression  Train\n",
       "3  0.081923  2.334223e-04  Linear Regression   Test"
      ]
     },
     "execution_count": 138,
     "metadata": {},
     "output_type": "execute_result"
    }
   ],
   "source": [
    "df_plot_alquiler"
   ]
  },
  {
   "cell_type": "code",
   "execution_count": 139,
   "metadata": {},
   "outputs": [
    {
     "data": {
      "text/plain": [
       "<AxesSubplot:xlabel='Data', ylabel='Score'>"
      ]
     },
     "execution_count": 139,
     "metadata": {},
     "output_type": "execute_result"
    },
    {
     "data": {
      "image/png": "[encoded data removed]",
      "text/plain": [
       "<Figure size 640x480 with 1 Axes>"
      ]
     },
     "metadata": {},
     "output_type": "display_data"
    }
   ],
   "source": [
    "sns.barplot(data = df_plot_alquiler, x=\"Data\", y=\"Score\", hue=\"Model\")"
   ]
  },
  {
   "cell_type": "code",
   "execution_count": 140,
   "metadata": {},
   "outputs": [
    {
     "data": {
      "text/plain": [
       "<AxesSubplot:xlabel='Data', ylabel='MSE'>"
      ]
     },
     "execution_count": 140,
     "metadata": {},
     "output_type": "execute_result"
    },
    {
     "data": {
      "image/png": "[encoded data removed]",
      "text/plain": [
       "<Figure size 640x480 with 1 Axes>"
      ]
     },
     "metadata": {},
     "output_type": "display_data"
    }
   ],
   "source": [
    "sns.barplot(data = df_plot_alquiler, x=\"Data\", y=\"MSE\", hue=\"Model\")"
   ]
  },
  {
   "cell_type": "code",
   "execution_count": 141,
   "metadata": {},
   "outputs": [],
   "source": [
    "import joblib"
   ]
  },
  {
   "cell_type": "code",
   "execution_count": 41,
   "metadata": {},
   "outputs": [
    {
     "data": {
      "text/plain": [
       "['model_alquiler.joblib']"
      ]
     },
     "execution_count": 41,
     "metadata": {},
     "output_type": "execute_result"
    }
   ],
   "source": [
    "joblib.dump(model_rand_forest_alquler, \"model_alquiler.joblib\")"
   ]
  },
  {
   "cell_type": "code",
   "execution_count": 143,
   "metadata": {},
   "outputs": [
    {
     "data": {
      "text/plain": [
       "['model_compra.joblib']"
      ]
     },
     "execution_count": 143,
     "metadata": {},
     "output_type": "execute_result"
    }
   ],
   "source": [
    "joblib.dump(model_rand_forest_compra, \"model_compra.joblib\")"
   ]
  },
  {
   "cell_type": "code",
   "execution_count": 144,
   "metadata": {},
   "outputs": [
    {
     "data": {
      "text/plain": [
       "Index(['distrito_tetuan', 'terraza', 'distrito_vicalvaro', 'piso_7',\n",
       "       'num_lavabos', 'piso_6', 'orientacion_norte', 'distrito_carabanchel',\n",
       "       'distrito_latina', 'distrito_salamanca', 'tipo_propiedad_pisos',\n",
       "       'tipo_propiedad_duplex', 'distrito_arganzuela', 'distrito_hortaleza',\n",
       "       'tipo_propiedad_aticos', 'piso_1', 'piso_8', 'piscina', 'piso_3',\n",
       "       'piso_0', 'distrito_villaverde', 'parking', 'distrito_ciudad lineal',\n",
       "       'exterior', 'distrito_centro', 'distrito_villa de vallecas',\n",
       "       'orientacion_este', 'distrito_puente de vallecas', 'orientacion_sur',\n",
       "       'distrito_fuencarral', 'distrito_moncloa', 'ascensor', 'superficie',\n",
       "       'piso_4', 'num_habitaciones', 'balcon', 'distrito_retiro',\n",
       "       'distrito_usera', 'distrito_chamartin', 'piso_2', 'ha_zonasverdes',\n",
       "       'piso_5', 'piso_9', 'orientacion_oeste', 'distrito_moratalaz',\n",
       "       'distrito_chamberi', 'distrito_barajas'],\n",
       "      dtype='object')"
      ]
     },
     "execution_count": 144,
     "metadata": {},
     "output_type": "execute_result"
    }
   ],
   "source": [
    "X.columns"
   ]
  },
  {
   "cell_type": "code",
   "execution_count": 153,
   "metadata": {},
   "outputs": [
    {
     "data": {
      "text/plain": [
       "(37235, 47)"
      ]
     },
     "execution_count": 153,
     "metadata": {},
     "output_type": "execute_result"
    }
   ],
   "source": [
    "X_train.shape"
   ]
  },
  {
   "cell_type": "code",
   "execution_count": null,
   "metadata": {},
   "outputs": [],
   "source": [
    "distrito = \"arganzuela\"\n",
    "subdistrito = \"palos de la frontera\"\n",
    "num_habitaciones = 2\n",
    "num_lavabos = 1\n",
    "superficie = 60\n",
    "tipo_propiedad = \"piso\"\n",
    "exterior = 1\n",
    "ascensor = 1\n",
    "parking = 0\n",
    "terraza = 0\n",
    "balcon = 1\n",
    "piscina = 0\n",
    "piso = 3\n",
    "orientacion = \"norte\"\n",
    "certificado_energetico = \"d\""
   ]
  },
  {
   "cell_type": "code",
   "execution_count": null,
   "metadata": {},
   "outputs": [],
   "source": []
  },
  {
   "cell_type": "code",
   "execution_count": 158,
   "metadata": {},
   "outputs": [
    {
     "data": {
      "text/html": [
       "<div>\n",
       "<style scoped>\n",
       "    .dataframe tbody tr th:only-of-type {\n",
       "        vertical-align: middle;\n",
       "    }\n",
       "\n",
       "    .dataframe tbody tr th {\n",
       "        vertical-align: top;\n",
       "    }\n",
       "\n",
       "    .dataframe thead th {\n",
       "        text-align: right;\n",
       "    }\n",
       "</style>\n",
       "<table border=\"1\" class=\"dataframe\">\n",
       "  <thead>\n",
       "    <tr style=\"text-align: right;\">\n",
       "      <th></th>\n",
       "      <th>distrito_tetuan</th>\n",
       "      <th>terraza</th>\n",
       "      <th>distrito_vicalvaro</th>\n",
       "      <th>piso_7</th>\n",
       "      <th>num_lavabos</th>\n",
       "      <th>piso_6</th>\n",
       "      <th>orientacion_norte</th>\n",
       "      <th>distrito_carabanchel</th>\n",
       "      <th>distrito_latina</th>\n",
       "      <th>distrito_salamanca</th>\n",
       "      <th>...</th>\n",
       "      <th>distrito_usera</th>\n",
       "      <th>distrito_chamartin</th>\n",
       "      <th>piso_2</th>\n",
       "      <th>ha_zonasverdes</th>\n",
       "      <th>piso_5</th>\n",
       "      <th>piso_9</th>\n",
       "      <th>orientacion_oeste</th>\n",
       "      <th>distrito_moratalaz</th>\n",
       "      <th>distrito_chamberi</th>\n",
       "      <th>distrito_barajas</th>\n",
       "    </tr>\n",
       "  </thead>\n",
       "  <tbody>\n",
       "    <tr>\n",
       "      <th>1</th>\n",
       "      <td>0</td>\n",
       "      <td>0</td>\n",
       "      <td>0</td>\n",
       "      <td>0</td>\n",
       "      <td>1</td>\n",
       "      <td>0</td>\n",
       "      <td>0</td>\n",
       "      <td>0</td>\n",
       "      <td>0</td>\n",
       "      <td>0</td>\n",
       "      <td>...</td>\n",
       "      <td>0</td>\n",
       "      <td>0</td>\n",
       "      <td>0</td>\n",
       "      <td>216.23</td>\n",
       "      <td>0</td>\n",
       "      <td>0</td>\n",
       "      <td>1</td>\n",
       "      <td>0</td>\n",
       "      <td>0</td>\n",
       "      <td>0</td>\n",
       "    </tr>\n",
       "    <tr>\n",
       "      <th>3</th>\n",
       "      <td>0</td>\n",
       "      <td>1</td>\n",
       "      <td>0</td>\n",
       "      <td>0</td>\n",
       "      <td>1</td>\n",
       "      <td>0</td>\n",
       "      <td>1</td>\n",
       "      <td>0</td>\n",
       "      <td>0</td>\n",
       "      <td>0</td>\n",
       "      <td>...</td>\n",
       "      <td>0</td>\n",
       "      <td>0</td>\n",
       "      <td>0</td>\n",
       "      <td>216.23</td>\n",
       "      <td>0</td>\n",
       "      <td>0</td>\n",
       "      <td>0</td>\n",
       "      <td>0</td>\n",
       "      <td>0</td>\n",
       "      <td>0</td>\n",
       "    </tr>\n",
       "    <tr>\n",
       "      <th>5</th>\n",
       "      <td>0</td>\n",
       "      <td>0</td>\n",
       "      <td>0</td>\n",
       "      <td>0</td>\n",
       "      <td>1</td>\n",
       "      <td>0</td>\n",
       "      <td>1</td>\n",
       "      <td>0</td>\n",
       "      <td>0</td>\n",
       "      <td>0</td>\n",
       "      <td>...</td>\n",
       "      <td>0</td>\n",
       "      <td>0</td>\n",
       "      <td>0</td>\n",
       "      <td>216.23</td>\n",
       "      <td>0</td>\n",
       "      <td>0</td>\n",
       "      <td>0</td>\n",
       "      <td>0</td>\n",
       "      <td>0</td>\n",
       "      <td>0</td>\n",
       "    </tr>\n",
       "    <tr>\n",
       "      <th>7</th>\n",
       "      <td>0</td>\n",
       "      <td>0</td>\n",
       "      <td>0</td>\n",
       "      <td>0</td>\n",
       "      <td>1</td>\n",
       "      <td>0</td>\n",
       "      <td>1</td>\n",
       "      <td>0</td>\n",
       "      <td>0</td>\n",
       "      <td>0</td>\n",
       "      <td>...</td>\n",
       "      <td>0</td>\n",
       "      <td>0</td>\n",
       "      <td>0</td>\n",
       "      <td>216.23</td>\n",
       "      <td>0</td>\n",
       "      <td>0</td>\n",
       "      <td>0</td>\n",
       "      <td>0</td>\n",
       "      <td>0</td>\n",
       "      <td>0</td>\n",
       "    </tr>\n",
       "    <tr>\n",
       "      <th>9</th>\n",
       "      <td>0</td>\n",
       "      <td>1</td>\n",
       "      <td>0</td>\n",
       "      <td>0</td>\n",
       "      <td>1</td>\n",
       "      <td>0</td>\n",
       "      <td>0</td>\n",
       "      <td>0</td>\n",
       "      <td>0</td>\n",
       "      <td>0</td>\n",
       "      <td>...</td>\n",
       "      <td>0</td>\n",
       "      <td>0</td>\n",
       "      <td>0</td>\n",
       "      <td>216.23</td>\n",
       "      <td>0</td>\n",
       "      <td>0</td>\n",
       "      <td>0</td>\n",
       "      <td>0</td>\n",
       "      <td>0</td>\n",
       "      <td>0</td>\n",
       "    </tr>\n",
       "    <tr>\n",
       "      <th>...</th>\n",
       "      <td>...</td>\n",
       "      <td>...</td>\n",
       "      <td>...</td>\n",
       "      <td>...</td>\n",
       "      <td>...</td>\n",
       "      <td>...</td>\n",
       "      <td>...</td>\n",
       "      <td>...</td>\n",
       "      <td>...</td>\n",
       "      <td>...</td>\n",
       "      <td>...</td>\n",
       "      <td>...</td>\n",
       "      <td>...</td>\n",
       "      <td>...</td>\n",
       "      <td>...</td>\n",
       "      <td>...</td>\n",
       "      <td>...</td>\n",
       "      <td>...</td>\n",
       "      <td>...</td>\n",
       "      <td>...</td>\n",
       "      <td>...</td>\n",
       "    </tr>\n",
       "    <tr>\n",
       "      <th>106377</th>\n",
       "      <td>0</td>\n",
       "      <td>0</td>\n",
       "      <td>0</td>\n",
       "      <td>0</td>\n",
       "      <td>2</td>\n",
       "      <td>0</td>\n",
       "      <td>0</td>\n",
       "      <td>0</td>\n",
       "      <td>0</td>\n",
       "      <td>0</td>\n",
       "      <td>...</td>\n",
       "      <td>0</td>\n",
       "      <td>0</td>\n",
       "      <td>1</td>\n",
       "      <td>93.35</td>\n",
       "      <td>0</td>\n",
       "      <td>0</td>\n",
       "      <td>0</td>\n",
       "      <td>0</td>\n",
       "      <td>0</td>\n",
       "      <td>1</td>\n",
       "    </tr>\n",
       "    <tr>\n",
       "      <th>106379</th>\n",
       "      <td>0</td>\n",
       "      <td>0</td>\n",
       "      <td>0</td>\n",
       "      <td>0</td>\n",
       "      <td>1</td>\n",
       "      <td>0</td>\n",
       "      <td>1</td>\n",
       "      <td>0</td>\n",
       "      <td>0</td>\n",
       "      <td>0</td>\n",
       "      <td>...</td>\n",
       "      <td>0</td>\n",
       "      <td>0</td>\n",
       "      <td>0</td>\n",
       "      <td>93.35</td>\n",
       "      <td>0</td>\n",
       "      <td>0</td>\n",
       "      <td>0</td>\n",
       "      <td>0</td>\n",
       "      <td>0</td>\n",
       "      <td>1</td>\n",
       "    </tr>\n",
       "    <tr>\n",
       "      <th>106381</th>\n",
       "      <td>0</td>\n",
       "      <td>0</td>\n",
       "      <td>0</td>\n",
       "      <td>0</td>\n",
       "      <td>2</td>\n",
       "      <td>0</td>\n",
       "      <td>1</td>\n",
       "      <td>0</td>\n",
       "      <td>0</td>\n",
       "      <td>0</td>\n",
       "      <td>...</td>\n",
       "      <td>0</td>\n",
       "      <td>0</td>\n",
       "      <td>0</td>\n",
       "      <td>93.35</td>\n",
       "      <td>0</td>\n",
       "      <td>0</td>\n",
       "      <td>0</td>\n",
       "      <td>0</td>\n",
       "      <td>0</td>\n",
       "      <td>1</td>\n",
       "    </tr>\n",
       "    <tr>\n",
       "      <th>106383</th>\n",
       "      <td>0</td>\n",
       "      <td>0</td>\n",
       "      <td>0</td>\n",
       "      <td>0</td>\n",
       "      <td>2</td>\n",
       "      <td>0</td>\n",
       "      <td>0</td>\n",
       "      <td>0</td>\n",
       "      <td>0</td>\n",
       "      <td>0</td>\n",
       "      <td>...</td>\n",
       "      <td>0</td>\n",
       "      <td>0</td>\n",
       "      <td>1</td>\n",
       "      <td>93.35</td>\n",
       "      <td>0</td>\n",
       "      <td>0</td>\n",
       "      <td>0</td>\n",
       "      <td>0</td>\n",
       "      <td>0</td>\n",
       "      <td>1</td>\n",
       "    </tr>\n",
       "    <tr>\n",
       "      <th>106385</th>\n",
       "      <td>0</td>\n",
       "      <td>0</td>\n",
       "      <td>0</td>\n",
       "      <td>0</td>\n",
       "      <td>1</td>\n",
       "      <td>0</td>\n",
       "      <td>1</td>\n",
       "      <td>0</td>\n",
       "      <td>0</td>\n",
       "      <td>0</td>\n",
       "      <td>...</td>\n",
       "      <td>0</td>\n",
       "      <td>0</td>\n",
       "      <td>0</td>\n",
       "      <td>93.35</td>\n",
       "      <td>0</td>\n",
       "      <td>0</td>\n",
       "      <td>0</td>\n",
       "      <td>0</td>\n",
       "      <td>0</td>\n",
       "      <td>1</td>\n",
       "    </tr>\n",
       "  </tbody>\n",
       "</table>\n",
       "<p>53193 rows × 47 columns</p>\n",
       "</div>"
      ],
      "text/plain": [
       "        distrito_tetuan  terraza  distrito_vicalvaro  piso_7  num_lavabos  \\\n",
       "1                     0        0                   0       0            1   \n",
       "3                     0        1                   0       0            1   \n",
       "5                     0        0                   0       0            1   \n",
       "7                     0        0                   0       0            1   \n",
       "9                     0        1                   0       0            1   \n",
       "...                 ...      ...                 ...     ...          ...   \n",
       "106377                0        0                   0       0            2   \n",
       "106379                0        0                   0       0            1   \n",
       "106381                0        0                   0       0            2   \n",
       "106383                0        0                   0       0            2   \n",
       "106385                0        0                   0       0            1   \n",
       "\n",
       "        piso_6  orientacion_norte  distrito_carabanchel  distrito_latina  \\\n",
       "1            0                  0                     0                0   \n",
       "3            0                  1                     0                0   \n",
       "5            0                  1                     0                0   \n",
       "7            0                  1                     0                0   \n",
       "9            0                  0                     0                0   \n",
       "...        ...                ...                   ...              ...   \n",
       "106377       0                  0                     0                0   \n",
       "106379       0                  1                     0                0   \n",
       "106381       0                  1                     0                0   \n",
       "106383       0                  0                     0                0   \n",
       "106385       0                  1                     0                0   \n",
       "\n",
       "        distrito_salamanca  ...  distrito_usera  distrito_chamartin  piso_2  \\\n",
       "1                        0  ...               0                   0       0   \n",
       "3                        0  ...               0                   0       0   \n",
       "5                        0  ...               0                   0       0   \n",
       "7                        0  ...               0                   0       0   \n",
       "9                        0  ...               0                   0       0   \n",
       "...                    ...  ...             ...                 ...     ...   \n",
       "106377                   0  ...               0                   0       1   \n",
       "106379                   0  ...               0                   0       0   \n",
       "106381                   0  ...               0                   0       0   \n",
       "106383                   0  ...               0                   0       1   \n",
       "106385                   0  ...               0                   0       0   \n",
       "\n",
       "        ha_zonasverdes  piso_5  piso_9  orientacion_oeste  distrito_moratalaz  \\\n",
       "1               216.23       0       0                  1                   0   \n",
       "3               216.23       0       0                  0                   0   \n",
       "5               216.23       0       0                  0                   0   \n",
       "7               216.23       0       0                  0                   0   \n",
       "9               216.23       0       0                  0                   0   \n",
       "...                ...     ...     ...                ...                 ...   \n",
       "106377           93.35       0       0                  0                   0   \n",
       "106379           93.35       0       0                  0                   0   \n",
       "106381           93.35       0       0                  0                   0   \n",
       "106383           93.35       0       0                  0                   0   \n",
       "106385           93.35       0       0                  0                   0   \n",
       "\n",
       "        distrito_chamberi  distrito_barajas  \n",
       "1                       0                 0  \n",
       "3                       0                 0  \n",
       "5                       0                 0  \n",
       "7                       0                 0  \n",
       "9                       0                 0  \n",
       "...                   ...               ...  \n",
       "106377                  0                 1  \n",
       "106379                  0                 1  \n",
       "106381                  0                 1  \n",
       "106383                  0                 1  \n",
       "106385                  0                 1  \n",
       "\n",
       "[53193 rows x 47 columns]"
      ]
     },
     "execution_count": 158,
     "metadata": {},
     "output_type": "execute_result"
    }
   ],
   "source": [
    "X"
   ]
  },
  {
   "cell_type": "code",
   "execution_count": 159,
   "metadata": {},
   "outputs": [
    {
     "data": {
      "text/plain": [
       "array([[0., 1., 0., ..., 0., 0., 0.],\n",
       "       [0., 0., 0., ..., 0., 0., 0.],\n",
       "       [0., 0., 0., ..., 0., 0., 0.],\n",
       "       ...,\n",
       "       [0., 0., 0., ..., 0., 0., 0.],\n",
       "       [0., 0., 0., ..., 0., 0., 0.],\n",
       "       [0., 1., 0., ..., 0., 0., 0.]])"
      ]
     },
     "execution_count": 159,
     "metadata": {},
     "output_type": "execute_result"
    }
   ],
   "source": [
    "X_train"
   ]
  },
  {
   "cell_type": "code",
   "execution_count": 169,
   "metadata": {},
   "outputs": [
    {
     "data": {
      "text/plain": [
       "array([0.        , 1.        , 0.        , 0.        , 0.14285714,\n",
       "       0.        , 0.        , 0.        , 0.        , 0.        ,\n",
       "       1.        , 0.        , 0.        , 0.        , 0.        ,\n",
       "       1.        , 0.        , 1.        , 0.        , 0.        ,\n",
       "       0.        , 1.        , 0.        , 1.        , 0.        ,\n",
       "       0.        , 0.        , 0.        , 0.        , 1.        ,\n",
       "       0.        , 1.        , 0.11731207, 0.        , 0.2       ,\n",
       "       0.        , 0.        , 0.        , 0.        , 0.        ,\n",
       "       1.        , 0.        , 0.        , 1.        , 0.        ,\n",
       "       0.        , 0.        ])"
      ]
     },
     "execution_count": 169,
     "metadata": {},
     "output_type": "execute_result"
    }
   ],
   "source": [
    "X_train[0,:]"
   ]
  },
  {
   "cell_type": "code",
   "execution_count": 166,
   "metadata": {},
   "outputs": [
    {
     "name": "stdout",
     "output_type": "stream",
     "text": [
      "Feature: superficie, Importance: 0.36260386923243104\n",
      "Feature: distrito_retiro, Importance: 0.27827644080655806\n",
      "Feature: tipo_propiedad_aticos, Importance: 0.11893948704090133\n",
      "Feature: piso_6, Importance: 0.10806651673229299\n",
      "Feature: num_habitaciones, Importance: 0.027600108291007956\n",
      "Feature: distrito_salamanca, Importance: 0.020595908533973563\n",
      "Feature: num_lavabos, Importance: 0.02022045236912009\n",
      "Feature: balcon, Importance: 0.017718821909503177\n",
      "Feature: piso_2, Importance: 0.010948403435846037\n",
      "Feature: parking, Importance: 0.007290146704036309\n",
      "Feature: piso_4, Importance: 0.004151888543711215\n",
      "Feature: piso_8, Importance: 0.0029724175592997083\n",
      "Feature: piscina, Importance: 0.002642920972949276\n",
      "Feature: piso_5, Importance: 0.0024190465800578\n",
      "Feature: orientacion_norte, Importance: 0.002359322402311466\n",
      "Feature: terraza, Importance: 0.002168317273217468\n",
      "Feature: distrito_chamartin, Importance: 0.0017610427423549284\n",
      "Feature: orientacion_oeste, Importance: 0.001483358535529718\n",
      "Feature: distrito_centro, Importance: 0.0014273535755340919\n",
      "Feature: ha_zonasverdes, Importance: 0.0010414136653967207\n",
      "Feature: piso_1, Importance: 0.0009594083626841392\n",
      "Feature: piso_3, Importance: 0.0009384357656701376\n",
      "Feature: tipo_propiedad_duplex, Importance: 0.0007063639904024678\n",
      "Feature: orientacion_sur, Importance: 0.0006743679796115846\n",
      "Feature: tipo_propiedad_pisos, Importance: 0.0004228205186642623\n",
      "Feature: orientacion_este, Importance: 0.0003781383948800852\n",
      "Feature: piso_7, Importance: 0.00036330875080409203\n",
      "Feature: distrito_chamberi, Importance: 0.00029810694786728723\n",
      "Feature: piso_0, Importance: 0.00021081148980586716\n",
      "Feature: distrito_moncloa, Importance: 0.0001423269901212204\n",
      "Feature: distrito_hortaleza, Importance: 6.128355335322837e-05\n",
      "Feature: distrito_tetuan, Importance: 5.082758677718627e-05\n",
      "Feature: exterior, Importance: 4.186627383721138e-05\n",
      "Feature: ascensor, Importance: 4.0367811132957386e-05\n",
      "Feature: piso_9, Importance: 2.099025827729196e-05\n",
      "Feature: distrito_fuencarral, Importance: 1.8625147110099432e-06\n",
      "Feature: distrito_ciudad lineal, Importance: 1.429521031740315e-06\n",
      "Feature: distrito_carabanchel, Importance: 1.9378177606240486e-08\n",
      "Feature: distrito_usera, Importance: 1.1933483201776965e-08\n",
      "Feature: distrito_arganzuela, Importance: 9.022240402700015e-09\n",
      "Feature: distrito_latina, Importance: 1.5841177393329504e-09\n",
      "Feature: distrito_villaverde, Importance: 1.5483068425314802e-09\n",
      "Feature: distrito_puente de vallecas, Importance: 1.1329897892191216e-09\n",
      "Feature: distrito_villa de vallecas, Importance: 7.625695179645017e-10\n",
      "Feature: distrito_vicalvaro, Importance: 5.677939919435576e-10\n",
      "Feature: distrito_moratalaz, Importance: 4.224102932153569e-10\n",
      "Feature: distrito_barajas, Importance: 3.224598140859537e-11\n"
     ]
    }
   ],
   "source": [
    "feature_importances = model_rand_forest_alquler.feature_importances_\n",
    "sorted_indices = np.argsort(feature_importances)[::-1]\n",
    "for idx, importance in enumerate(feature_importances[sorted_indices]):\n",
    "    feature_index = sorted_indices[idx]\n",
    "    feature_name = X.columns[feature_index]  # Assuming X_train is a DataFrame\n",
    "    print(f\"Feature: {feature_name}, Importance: {importance}\")\n",
    "\n"
   ]
  },
  {
   "cell_type": "code",
   "execution_count": 170,
   "metadata": {},
   "outputs": [
    {
     "ename": "AttributeError",
     "evalue": "'RandomForestRegressor' object has no attribute 'feature_names_in_'",
     "output_type": "error",
     "traceback": [
      "\u001b[1;31m---------------------------------------------------------------------------\u001b[0m",
      "\u001b[1;31mAttributeError\u001b[0m                            Traceback (most recent call last)",
      "\u001b[1;32m~\\AppData\\Local\\Temp\\ipykernel_18888\\4260045412.py\u001b[0m in \u001b[0;36m<module>\u001b[1;34m\u001b[0m\n\u001b[1;32m----> 1\u001b[1;33m \u001b[0mmodel_rand_forest_alquler\u001b[0m\u001b[1;33m.\u001b[0m\u001b[0mfeature_names_in_\u001b[0m\u001b[1;33m\u001b[0m\u001b[1;33m\u001b[0m\u001b[0m\n\u001b[0m",
      "\u001b[1;31mAttributeError\u001b[0m: 'RandomForestRegressor' object has no attribute 'feature_names_in_'"
     ]
    }
   ],
   "source": [
    "model_rand_forest_alquler.feature_names_in_"
   ]
  },
  {
   "cell_type": "code",
   "execution_count": null,
   "metadata": {},
   "outputs": [],
   "source": [
    "model_rand_forest_alquler.predict()"
   ]
  },
  {
   "cell_type": "code",
   "execution_count": 174,
   "metadata": {},
   "outputs": [
    {
     "data": {
      "text/html": [
       "<div>\n",
       "<style scoped>\n",
       "    .dataframe tbody tr th:only-of-type {\n",
       "        vertical-align: middle;\n",
       "    }\n",
       "\n",
       "    .dataframe tbody tr th {\n",
       "        vertical-align: top;\n",
       "    }\n",
       "\n",
       "    .dataframe thead th {\n",
       "        text-align: right;\n",
       "    }\n",
       "</style>\n",
       "<table border=\"1\" class=\"dataframe\">\n",
       "  <thead>\n",
       "    <tr style=\"text-align: right;\">\n",
       "      <th></th>\n",
       "      <th>distrito_tetuan</th>\n",
       "      <th>terraza</th>\n",
       "      <th>distrito_vicalvaro</th>\n",
       "      <th>piso_7</th>\n",
       "      <th>num_lavabos</th>\n",
       "      <th>piso_6</th>\n",
       "      <th>orientacion_norte</th>\n",
       "      <th>distrito_carabanchel</th>\n",
       "      <th>distrito_latina</th>\n",
       "      <th>distrito_salamanca</th>\n",
       "      <th>...</th>\n",
       "      <th>distrito_usera</th>\n",
       "      <th>distrito_chamartin</th>\n",
       "      <th>piso_2</th>\n",
       "      <th>ha_zonasverdes</th>\n",
       "      <th>piso_5</th>\n",
       "      <th>piso_9</th>\n",
       "      <th>orientacion_oeste</th>\n",
       "      <th>distrito_moratalaz</th>\n",
       "      <th>distrito_chamberi</th>\n",
       "      <th>distrito_barajas</th>\n",
       "    </tr>\n",
       "  </thead>\n",
       "  <tbody>\n",
       "    <tr>\n",
       "      <th>0</th>\n",
       "      <td>0</td>\n",
       "      <td>0</td>\n",
       "      <td>0</td>\n",
       "      <td>0</td>\n",
       "      <td>1</td>\n",
       "      <td>0</td>\n",
       "      <td>0</td>\n",
       "      <td>0</td>\n",
       "      <td>0</td>\n",
       "      <td>0</td>\n",
       "      <td>...</td>\n",
       "      <td>0</td>\n",
       "      <td>0</td>\n",
       "      <td>0</td>\n",
       "      <td>216.23</td>\n",
       "      <td>0</td>\n",
       "      <td>0</td>\n",
       "      <td>1</td>\n",
       "      <td>0</td>\n",
       "      <td>0</td>\n",
       "      <td>0</td>\n",
       "    </tr>\n",
       "    <tr>\n",
       "      <th>2</th>\n",
       "      <td>0</td>\n",
       "      <td>1</td>\n",
       "      <td>0</td>\n",
       "      <td>0</td>\n",
       "      <td>1</td>\n",
       "      <td>0</td>\n",
       "      <td>1</td>\n",
       "      <td>0</td>\n",
       "      <td>0</td>\n",
       "      <td>0</td>\n",
       "      <td>...</td>\n",
       "      <td>0</td>\n",
       "      <td>0</td>\n",
       "      <td>0</td>\n",
       "      <td>216.23</td>\n",
       "      <td>0</td>\n",
       "      <td>0</td>\n",
       "      <td>0</td>\n",
       "      <td>0</td>\n",
       "      <td>0</td>\n",
       "      <td>0</td>\n",
       "    </tr>\n",
       "    <tr>\n",
       "      <th>4</th>\n",
       "      <td>0</td>\n",
       "      <td>0</td>\n",
       "      <td>0</td>\n",
       "      <td>0</td>\n",
       "      <td>1</td>\n",
       "      <td>0</td>\n",
       "      <td>1</td>\n",
       "      <td>0</td>\n",
       "      <td>0</td>\n",
       "      <td>0</td>\n",
       "      <td>...</td>\n",
       "      <td>0</td>\n",
       "      <td>0</td>\n",
       "      <td>0</td>\n",
       "      <td>216.23</td>\n",
       "      <td>0</td>\n",
       "      <td>0</td>\n",
       "      <td>0</td>\n",
       "      <td>0</td>\n",
       "      <td>0</td>\n",
       "      <td>0</td>\n",
       "    </tr>\n",
       "    <tr>\n",
       "      <th>6</th>\n",
       "      <td>0</td>\n",
       "      <td>0</td>\n",
       "      <td>0</td>\n",
       "      <td>0</td>\n",
       "      <td>1</td>\n",
       "      <td>0</td>\n",
       "      <td>1</td>\n",
       "      <td>0</td>\n",
       "      <td>0</td>\n",
       "      <td>0</td>\n",
       "      <td>...</td>\n",
       "      <td>0</td>\n",
       "      <td>0</td>\n",
       "      <td>0</td>\n",
       "      <td>216.23</td>\n",
       "      <td>0</td>\n",
       "      <td>0</td>\n",
       "      <td>0</td>\n",
       "      <td>0</td>\n",
       "      <td>0</td>\n",
       "      <td>0</td>\n",
       "    </tr>\n",
       "    <tr>\n",
       "      <th>8</th>\n",
       "      <td>0</td>\n",
       "      <td>1</td>\n",
       "      <td>0</td>\n",
       "      <td>0</td>\n",
       "      <td>1</td>\n",
       "      <td>0</td>\n",
       "      <td>0</td>\n",
       "      <td>0</td>\n",
       "      <td>0</td>\n",
       "      <td>0</td>\n",
       "      <td>...</td>\n",
       "      <td>0</td>\n",
       "      <td>0</td>\n",
       "      <td>0</td>\n",
       "      <td>216.23</td>\n",
       "      <td>0</td>\n",
       "      <td>0</td>\n",
       "      <td>0</td>\n",
       "      <td>0</td>\n",
       "      <td>0</td>\n",
       "      <td>0</td>\n",
       "    </tr>\n",
       "    <tr>\n",
       "      <th>...</th>\n",
       "      <td>...</td>\n",
       "      <td>...</td>\n",
       "      <td>...</td>\n",
       "      <td>...</td>\n",
       "      <td>...</td>\n",
       "      <td>...</td>\n",
       "      <td>...</td>\n",
       "      <td>...</td>\n",
       "      <td>...</td>\n",
       "      <td>...</td>\n",
       "      <td>...</td>\n",
       "      <td>...</td>\n",
       "      <td>...</td>\n",
       "      <td>...</td>\n",
       "      <td>...</td>\n",
       "      <td>...</td>\n",
       "      <td>...</td>\n",
       "      <td>...</td>\n",
       "      <td>...</td>\n",
       "      <td>...</td>\n",
       "      <td>...</td>\n",
       "    </tr>\n",
       "    <tr>\n",
       "      <th>106376</th>\n",
       "      <td>0</td>\n",
       "      <td>0</td>\n",
       "      <td>0</td>\n",
       "      <td>0</td>\n",
       "      <td>2</td>\n",
       "      <td>0</td>\n",
       "      <td>0</td>\n",
       "      <td>0</td>\n",
       "      <td>0</td>\n",
       "      <td>0</td>\n",
       "      <td>...</td>\n",
       "      <td>0</td>\n",
       "      <td>0</td>\n",
       "      <td>1</td>\n",
       "      <td>93.35</td>\n",
       "      <td>0</td>\n",
       "      <td>0</td>\n",
       "      <td>0</td>\n",
       "      <td>0</td>\n",
       "      <td>0</td>\n",
       "      <td>1</td>\n",
       "    </tr>\n",
       "    <tr>\n",
       "      <th>106378</th>\n",
       "      <td>0</td>\n",
       "      <td>0</td>\n",
       "      <td>0</td>\n",
       "      <td>0</td>\n",
       "      <td>1</td>\n",
       "      <td>0</td>\n",
       "      <td>1</td>\n",
       "      <td>0</td>\n",
       "      <td>0</td>\n",
       "      <td>0</td>\n",
       "      <td>...</td>\n",
       "      <td>0</td>\n",
       "      <td>0</td>\n",
       "      <td>0</td>\n",
       "      <td>93.35</td>\n",
       "      <td>0</td>\n",
       "      <td>0</td>\n",
       "      <td>0</td>\n",
       "      <td>0</td>\n",
       "      <td>0</td>\n",
       "      <td>1</td>\n",
       "    </tr>\n",
       "    <tr>\n",
       "      <th>106380</th>\n",
       "      <td>0</td>\n",
       "      <td>0</td>\n",
       "      <td>0</td>\n",
       "      <td>0</td>\n",
       "      <td>2</td>\n",
       "      <td>0</td>\n",
       "      <td>1</td>\n",
       "      <td>0</td>\n",
       "      <td>0</td>\n",
       "      <td>0</td>\n",
       "      <td>...</td>\n",
       "      <td>0</td>\n",
       "      <td>0</td>\n",
       "      <td>0</td>\n",
       "      <td>93.35</td>\n",
       "      <td>0</td>\n",
       "      <td>0</td>\n",
       "      <td>0</td>\n",
       "      <td>0</td>\n",
       "      <td>0</td>\n",
       "      <td>1</td>\n",
       "    </tr>\n",
       "    <tr>\n",
       "      <th>106382</th>\n",
       "      <td>0</td>\n",
       "      <td>0</td>\n",
       "      <td>0</td>\n",
       "      <td>0</td>\n",
       "      <td>2</td>\n",
       "      <td>0</td>\n",
       "      <td>0</td>\n",
       "      <td>0</td>\n",
       "      <td>0</td>\n",
       "      <td>0</td>\n",
       "      <td>...</td>\n",
       "      <td>0</td>\n",
       "      <td>0</td>\n",
       "      <td>1</td>\n",
       "      <td>93.35</td>\n",
       "      <td>0</td>\n",
       "      <td>0</td>\n",
       "      <td>0</td>\n",
       "      <td>0</td>\n",
       "      <td>0</td>\n",
       "      <td>1</td>\n",
       "    </tr>\n",
       "    <tr>\n",
       "      <th>106384</th>\n",
       "      <td>0</td>\n",
       "      <td>0</td>\n",
       "      <td>0</td>\n",
       "      <td>0</td>\n",
       "      <td>1</td>\n",
       "      <td>0</td>\n",
       "      <td>1</td>\n",
       "      <td>0</td>\n",
       "      <td>0</td>\n",
       "      <td>0</td>\n",
       "      <td>...</td>\n",
       "      <td>0</td>\n",
       "      <td>0</td>\n",
       "      <td>0</td>\n",
       "      <td>93.35</td>\n",
       "      <td>0</td>\n",
       "      <td>0</td>\n",
       "      <td>0</td>\n",
       "      <td>0</td>\n",
       "      <td>0</td>\n",
       "      <td>1</td>\n",
       "    </tr>\n",
       "  </tbody>\n",
       "</table>\n",
       "<p>53193 rows × 47 columns</p>\n",
       "</div>"
      ],
      "text/plain": [
       "        distrito_tetuan  terraza  distrito_vicalvaro  piso_7  num_lavabos  \\\n",
       "0                     0        0                   0       0            1   \n",
       "2                     0        1                   0       0            1   \n",
       "4                     0        0                   0       0            1   \n",
       "6                     0        0                   0       0            1   \n",
       "8                     0        1                   0       0            1   \n",
       "...                 ...      ...                 ...     ...          ...   \n",
       "106376                0        0                   0       0            2   \n",
       "106378                0        0                   0       0            1   \n",
       "106380                0        0                   0       0            2   \n",
       "106382                0        0                   0       0            2   \n",
       "106384                0        0                   0       0            1   \n",
       "\n",
       "        piso_6  orientacion_norte  distrito_carabanchel  distrito_latina  \\\n",
       "0            0                  0                     0                0   \n",
       "2            0                  1                     0                0   \n",
       "4            0                  1                     0                0   \n",
       "6            0                  1                     0                0   \n",
       "8            0                  0                     0                0   \n",
       "...        ...                ...                   ...              ...   \n",
       "106376       0                  0                     0                0   \n",
       "106378       0                  1                     0                0   \n",
       "106380       0                  1                     0                0   \n",
       "106382       0                  0                     0                0   \n",
       "106384       0                  1                     0                0   \n",
       "\n",
       "        distrito_salamanca  ...  distrito_usera  distrito_chamartin  piso_2  \\\n",
       "0                        0  ...               0                   0       0   \n",
       "2                        0  ...               0                   0       0   \n",
       "4                        0  ...               0                   0       0   \n",
       "6                        0  ...               0                   0       0   \n",
       "8                        0  ...               0                   0       0   \n",
       "...                    ...  ...             ...                 ...     ...   \n",
       "106376                   0  ...               0                   0       1   \n",
       "106378                   0  ...               0                   0       0   \n",
       "106380                   0  ...               0                   0       0   \n",
       "106382                   0  ...               0                   0       1   \n",
       "106384                   0  ...               0                   0       0   \n",
       "\n",
       "        ha_zonasverdes  piso_5  piso_9  orientacion_oeste  distrito_moratalaz  \\\n",
       "0               216.23       0       0                  1                   0   \n",
       "2               216.23       0       0                  0                   0   \n",
       "4               216.23       0       0                  0                   0   \n",
       "6               216.23       0       0                  0                   0   \n",
       "8               216.23       0       0                  0                   0   \n",
       "...                ...     ...     ...                ...                 ...   \n",
       "106376           93.35       0       0                  0                   0   \n",
       "106378           93.35       0       0                  0                   0   \n",
       "106380           93.35       0       0                  0                   0   \n",
       "106382           93.35       0       0                  0                   0   \n",
       "106384           93.35       0       0                  0                   0   \n",
       "\n",
       "        distrito_chamberi  distrito_barajas  \n",
       "0                       0                 0  \n",
       "2                       0                 0  \n",
       "4                       0                 0  \n",
       "6                       0                 0  \n",
       "8                       0                 0  \n",
       "...                   ...               ...  \n",
       "106376                  0                 1  \n",
       "106378                  0                 1  \n",
       "106380                  0                 1  \n",
       "106382                  0                 1  \n",
       "106384                  0                 1  \n",
       "\n",
       "[53193 rows x 47 columns]"
      ]
     },
     "execution_count": 174,
     "metadata": {},
     "output_type": "execute_result"
    }
   ],
   "source": [
    "X_alquiler"
   ]
  },
  {
   "cell_type": "code",
   "execution_count": 180,
   "metadata": {},
   "outputs": [
    {
     "data": {
      "text/plain": [
       "array([[0.        , 1.        , 0.        , 0.        , 0.14285714,\n",
       "        0.        , 1.        , 0.        , 0.        , 0.        ,\n",
       "        1.        , 0.        , 0.        , 0.        , 0.        ,\n",
       "        1.        , 0.        , 0.        , 0.        , 0.        ,\n",
       "        0.        , 0.        , 1.        , 1.        , 0.        ,\n",
       "        0.        , 0.        , 0.        , 0.        , 0.        ,\n",
       "        0.        , 1.        , 0.06947608, 0.        , 0.13333333,\n",
       "        0.        , 0.        , 0.        , 0.        , 0.        ,\n",
       "        0.34873865, 0.        , 0.        , 0.        , 0.        ,\n",
       "        0.        , 0.        ]])"
      ]
     },
     "execution_count": 180,
     "metadata": {},
     "output_type": "execute_result"
    }
   ],
   "source": [
    "X_test[0,:].reshape(1,-1)"
   ]
  },
  {
   "cell_type": "code",
   "execution_count": 178,
   "metadata": {},
   "outputs": [
    {
     "data": {
      "text/plain": [
       "array([1092.34])"
      ]
     },
     "execution_count": 178,
     "metadata": {},
     "output_type": "execute_result"
    }
   ],
   "source": [
    "model_rand_forest_alquler.predict(X_test[0,:].reshape(1,-1))"
   ]
  },
  {
   "cell_type": "code",
   "execution_count": null,
   "metadata": {},
   "outputs": [],
   "source": [
    "#Parámetros:\n",
    "distrito = \"chamberi\"\n",
    "num_piso = \"3\"\n",
    "orientacion = \"norte\"\n",
    "terraza = 0\n",
    "num_lavabos = 1\n",
    "parking = 1\n",
    "exterior = 1\n",
    "ascensor = 0\n",
    "superficie = 60\n",
    "num_habitaciones = 2\n",
    "balcon = 0\n",
    "piscina = 0\n",
    "\n",
    "\n",
    "\n",
    "\n",
    "\n",
    "\n",
    "\n",
    "\n",
    "\n",
    "# Código:\n",
    "\n",
    "import joblib \n",
    "import matplotlib.pyplot as plt\n",
    "import numpy as np\n",
    "\n",
    "model_alquiler = joblib.load(r\"C:\\Users\\aaira\\OneDrive\\Documentos\\tfm_datos\\model_alquiler.joblib\")\n",
    "scaler_x_alquiler = joblib.load(r\"C:\\Users\\aaira\\OneDrive\\Documentos\\tfm_datos\\scaler_x_alquiler.joblib\")\n",
    "\n",
    "model_compra = joblib.load(r\"C:\\Users\\aaira\\OneDrive\\Documentos\\tfm_datos\\model_compra.joblib\")\n",
    "scaler_x_compra = joblib.load(r\"C:\\Users\\aaira\\OneDrive\\Documentos\\tfm_datos\\scaler_x_compra.joblib\")\n",
    "\n",
    "cols = ['piso_4', 'distrito_moratalaz', 'tipo_propiedad_duplex',\n",
    "       'orientacion_norte', 'piso_9', 'tipo_propiedad_pisos',\n",
    "       'distrito_villaverde', 'distrito_chamberi', 'num_lavabos',\n",
    "       'distrito_tetuan', 'piso_6', 'num_habitaciones', 'superficie',\n",
    "       'distrito_ciudad lineal', 'piso_7', 'piso_0', 'ascensor',\n",
    "       'tipo_propiedad_aticos', 'terraza', 'piscina', 'distrito_chamartin',\n",
    "       'distrito_vicalvaro', 'distrito_moncloa', 'orientacion_sur',\n",
    "       'distrito_barajas', 'distrito_hortaleza', 'distrito_usera',\n",
    "       'orientacion_oeste', 'piso_8', 'piso_3', 'distrito_retiro',\n",
    "       'distrito_carabanchel', 'orientacion_este', 'parking',\n",
    "       'distrito_puente de vallecas', 'distrito_villa de vallecas', 'piso_5',\n",
    "       'piso_1', 'distrito_arganzuela', 'piso_2', 'distrito_centro',\n",
    "       'distrito_latina', 'ha_zonasverdes', 'exterior', 'distrito_fuencarral',\n",
    "       'distrito_salamanca', 'balcon']\n",
    "\n",
    "df = pandas.DataFrame(np.zeros(len(cols)).reshape(1,-1), columns=cols)\n",
    "\n",
    "#Parametros\n",
    "df[\"terraza\"] = terraza\n",
    "df[\"num_lavabos\"] = num_lavabos\n",
    "df[\"parking\"] = parking\n",
    "df[\"exterior\"] = exterior\n",
    "df[\"ascensor\"] = ascensor\n",
    "df[\"superficie\"] = superficie\n",
    "df[\"num_habitaciones\"] = num_habitaciones\n",
    "df[\"balcon\"] = balcon\n",
    "df[\"piscina\"] = piscina\n",
    "df[f\"distrito_{distrito}\"] = 1\n",
    "df[f\"piso_{num_piso}\"] = 1\n",
    "df[f\"orientacion_{orientacion}\"] = 1\n",
    "\n",
    "df_scale_alquiler = scaler_x_alquiler.transform(df)\n",
    "prediction_alquiler = model_alquiler.predict(df_scale_alquiler)\n",
    "\n",
    "df_scale_compra = scaler_x_compra.transform(df)\n",
    "prediction_compra = model_compra.predict(df_scale_compra)\n",
    "\n",
    "data = [[f\"{round(prediction_compra[0]/100)*100}€ (prediccion: {round(prediction_compra[0])}€)\", f\"{round(prediction_alquiler[0]/10)*10}€ (prediccion: {round(prediction_alquiler[0])}€)\"]]\n",
    "fig, ax = plt.subplots()\n",
    "\n",
    "table = ax.table(cellText=data, colLabels=[\"Precio Compra\", \"Precio Alquiler\", \"distrito\"], cellLoc='center', loc='center',bbox=[0, 0.9, 1.1, 0.2])\n",
    "\n",
    "table.get_celld()[(0, 0)].set_facecolor(\"red\")\n",
    "table.get_celld()[(0, 0)].set_text_props(fontweight='bold', color='white')\n",
    "table.get_celld()[(0, 1)].set_facecolor(\"red\")\n",
    "table.get_celld()[(0, 1)].set_text_props(fontweight='bold', color='white')\n",
    "table.auto_set_font_size(True)\n",
    "table.scale(1.2, 1.2)\n",
    "ax.axis('off')\n",
    "\n",
    "# Show the plot\n",
    "plt.show()"
   ]
  }
 ],
 "metadata": {
  "kernelspec": {
   "display_name": "myenv",
   "language": "python",
   "name": "python3"
  },
  "language_info": {
   "codemirror_mode": {
    "name": "ipython",
    "version": 3
   },
   "file_extension": ".py",
   "mimetype": "text/x-python",
   "name": "python",
   "nbconvert_exporter": "python",
   "pygments_lexer": "ipython3",
   "version": "3.7.9"
  },
  "orig_nbformat": 4
 },
 "nbformat": 4,
 "nbformat_minor": 2
}
