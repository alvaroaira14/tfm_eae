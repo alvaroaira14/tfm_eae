{
 "cells": [
  {
   "cell_type": "code",
   "execution_count": null,
   "metadata": {},
   "outputs": [],
   "source": [
    "!pip install xgboost"
   ]
  },
  {
   "attachments": {},
   "cell_type": "markdown",
   "metadata": {},
   "source": [
    "### IMPORTAR LIBREARÍAS"
   ]
  },
  {
   "cell_type": "code",
   "execution_count": 7,
   "metadata": {},
   "outputs": [],
   "source": [
    "import pandas as pd\n",
    "import pymysql\n",
    "import random \n",
    "\n",
    "from sklearn.ensemble import RandomForestRegressor\n",
    "from sklearn.model_selection import train_test_split\n",
    "from sklearn.preprocessing import StandardScaler\n",
    "from sklearn.metrics import mean_squared_error, r2_score\n",
    "\n",
    "random.seed(42)"
   ]
  },
  {
   "attachments": {},
   "cell_type": "markdown",
   "metadata": {},
   "source": [
    "### Generar Dataframe a partir de tablas"
   ]
  },
  {
   "cell_type": "code",
   "execution_count": 8,
   "metadata": {},
   "outputs": [],
   "source": [
    "conn = pymysql.connect(host='localhost', user='tfm_user', password='tfmdatabase1234', db='tfm_database')\n",
    "\n",
    "inmueble_query = \"SELECT * FROM inmueble\"\n",
    "anuncio_query = \"SELECT * FROM anuncio\"\n",
    "\n",
    "df_inmueble = pd.read_sql(inmueble_query, conn)\n",
    "df_anuncio = pd.read_sql(anuncio_query, conn)\n",
    "\n",
    "inmueble_columns = [\"id_inmueble\", \"exterior\", \"num_habitaciones\", \"superficie\", \"ascensor\", \"parking\"]\n",
    "anuncio_columns = [\"id_anuncio\", \"id_inmueble\", \"precio\"]\n",
    "\n",
    "df_inmueble = df_inmueble[inmueble_columns]\n",
    "df_anuncio = df_anuncio[anuncio_columns]\n",
    "df = df_anuncio.merge(df_inmueble, how=\"left\", on=\"id_inmueble\")"
   ]
  },
  {
   "attachments": {},
   "cell_type": "markdown",
   "metadata": {},
   "source": [
    "### Transformar el Dataframe para ser entrenado"
   ]
  },
  {
   "cell_type": "code",
   "execution_count": 9,
   "metadata": {},
   "outputs": [],
   "source": [
    "df_machine = pd.get_dummies(df)\n",
    "x_column = list(set(df_machine.columns) - set([\"precio\", \"id_anuncio\", \"id_inmueble\"]))\n",
    "y_column = [\"precio\"]\n",
    "X = df_machine[x_column]\n",
    "y = df_machine[y_column]\n",
    "\n",
    "X_train, X_test, y_train, y_test = train_test_split(X, y, test_size=0.3)\n",
    "scaler = StandardScaler()\n",
    "X_train_scale = scaler.fit_transform(X_train)\n",
    "X_test_scale = scaler.fit_transform(X_test)\n"
   ]
  },
  {
   "attachments": {},
   "cell_type": "markdown",
   "metadata": {},
   "source": [
    "MODELO SIMPLE"
   ]
  },
  {
   "cell_type": "code",
   "execution_count": 10,
   "metadata": {},
   "outputs": [
    {
     "name": "stderr",
     "output_type": "stream",
     "text": [
      "c:\\Users\\aaira\\OneDrive\\Documentos\\tfm_eae\\.venv\\lib\\site-packages\\ipykernel_launcher.py:2: DataConversionWarning: A column-vector y was passed when a 1d array was expected. Please change the shape of y to (n_samples,), for example using ravel().\n",
      "  \n"
     ]
    },
    {
     "data": {
      "text/plain": [
       "RandomForestRegressor()"
      ]
     },
     "execution_count": 10,
     "metadata": {},
     "output_type": "execute_result"
    }
   ],
   "source": [
    "model = RandomForestRegressor()\n",
    "model.fit(X_train_scale, y_train)"
   ]
  },
  {
   "cell_type": "code",
   "execution_count": 11,
   "metadata": {},
   "outputs": [
    {
     "data": {
      "text/plain": [
       "0.7374348960637581"
      ]
     },
     "execution_count": 11,
     "metadata": {},
     "output_type": "execute_result"
    }
   ],
   "source": [
    "y_train_predict = model.predict(X_train_scale)\n",
    "y_test_predict = model.predict(X_test_scale)\n",
    "\n",
    "print(\"Train Accuracy: \", r2_score(y_train, y_train_predict))\n",
    "print(\"Test Accuracy: \", r2_score(y_test, y_test_predict))\n",
    "\n",
    "print(\"MSE Train: \", mean_squared_error(y_train, y_train_predict))\n",
    "print(\"MSE Test: \", mean_squared_error(y_test, y_test_predict))"
   ]
  },
  {
   "attachments": {},
   "cell_type": "markdown",
   "metadata": {},
   "source": [
    "ESCALAR VARIABLE TARGET"
   ]
  },
  {
   "cell_type": "code",
   "execution_count": null,
   "metadata": {},
   "outputs": [],
   "source": [
    "y_train_scale = scaler.fit_transform(y_train)\n",
    "y_test_scale = scaler.fit_transform(y_test)"
   ]
  },
  {
   "cell_type": "code",
   "execution_count": null,
   "metadata": {},
   "outputs": [],
   "source": [
    "model = RandomForestRegressor()\n",
    "model.fit(X_train_scale, y_train_scale)"
   ]
  },
  {
   "cell_type": "code",
   "execution_count": null,
   "metadata": {},
   "outputs": [],
   "source": [
    "y_train_predict = model.predict(X_train_scale)\n",
    "y_test_predict = model.predict(X_test_scale)\n",
    "\n",
    "print(\"Train Accuracy: \", r2_score(y_train, y_train_predict))\n",
    "print(\"Test Accuracy: \", r2_score(y_test, y_test_predict))\n",
    "\n",
    "print(\"MSE Train: \", mean_squared_error(y_train, y_train_predict))\n",
    "print(\"MSE Test: \", mean_squared_error(y_test, y_test_predict))"
   ]
  },
  {
   "attachments": {},
   "cell_type": "markdown",
   "metadata": {},
   "source": [
    "AJUSTE DE PARÁMETROS"
   ]
  },
  {
   "cell_type": "code",
   "execution_count": null,
   "metadata": {},
   "outputs": [],
   "source": [
    "from sklearn.model_selection import GridSearchCV"
   ]
  },
  {
   "cell_type": "code",
   "execution_count": null,
   "metadata": {},
   "outputs": [],
   "source": [
    "params = {\n",
    "    'n_estimators': [50, 100, 200],\n",
    "    'max_depth': [2, 5, 10],\n",
    "    'max_features':['log2', 'sqrt', 'auto']\n",
    "}"
   ]
  },
  {
   "cell_type": "code",
   "execution_count": null,
   "metadata": {},
   "outputs": [],
   "source": [
    "model_gridcv = GridSearchCV(model, params, cv=3)\n",
    "model_gridcv.fit(X_train_scale, y_train_scale)\n",
    "best_model = model_gridcv.best_estimator_"
   ]
  },
  {
   "cell_type": "code",
   "execution_count": null,
   "metadata": {},
   "outputs": [],
   "source": [
    "y_train_predict = best_model.predict(X_train_scale)\n",
    "y_test_predict = best_model.predict(X_test_scale)\n",
    "\n",
    "print(\"Train Accuracy: \", r2_score(y_train, y_train_predict))\n",
    "print(\"Test Accuracy: \", r2_score(y_test, y_test_predict))\n",
    "\n",
    "print(\"MSE Train: \", mean_squared_error(y_train, y_train_predict))\n",
    "print(\"MSE Test: \", mean_squared_error(y_test, y_test_predict))"
   ]
  },
  {
   "attachments": {},
   "cell_type": "markdown",
   "metadata": {},
   "source": [
    "OTRO MODELO"
   ]
  },
  {
   "cell_type": "code",
   "execution_count": null,
   "metadata": {},
   "outputs": [],
   "source": [
    "from xgboost import XGBRegressor"
   ]
  },
  {
   "cell_type": "code",
   "execution_count": null,
   "metadata": {},
   "outputs": [],
   "source": [
    "xgb_model = XGBRegressor()\n",
    "\n",
    "# Define the parameter grid for grid search\n",
    "params = {\n",
    "    'n_estimators': [50, 100, 200],\n",
    "    'max_depth': [3, 5, 7],\n",
    "    'learning_rate': [0.1, 0.01, 0.001]\n",
    "}\n",
    "\n",
    "# Perform grid search with cross-validation\n",
    "xgb_model_gridcv = GridSearchCV(xgb_model, params, cv=3)\n",
    "xgb_model_gridcv.fit(X, y)\n",
    "best_xgb_model = xgb_model_gridcv.best_estimator_"
   ]
  },
  {
   "cell_type": "code",
   "execution_count": null,
   "metadata": {},
   "outputs": [],
   "source": [
    "y_train_predict = best_xgb_model.predict(X_train_scale)\n",
    "y_test_predict = best_xgb_model.predict(X_test_scale)\n",
    "\n",
    "print(\"Train Accuracy: \", r2_score(y_train, y_train_predict))\n",
    "print(\"Test Accuracy: \", r2_score(y_test, y_test_predict))\n",
    "\n",
    "print(\"MSE Train: \", mean_squared_error(y_train, y_train_predict))\n",
    "print(\"MSE Test: \", mean_squared_error(y_test, y_test_predict))"
   ]
  }
 ],
 "metadata": {
  "kernelspec": {
   "display_name": ".venv",
   "language": "python",
   "name": "python3"
  },
  "language_info": {
   "codemirror_mode": {
    "name": "ipython",
    "version": 3
   },
   "file_extension": ".py",
   "mimetype": "text/x-python",
   "name": "python",
   "nbconvert_exporter": "python",
   "pygments_lexer": "ipython3",
   "version": "3.7.9"
  },
  "orig_nbformat": 4
 },
 "nbformat": 4,
 "nbformat_minor": 2
}
