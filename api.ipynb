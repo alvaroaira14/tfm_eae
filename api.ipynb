{
 "cells": [
  {
   "cell_type": "code",
   "execution_count": 31,
   "metadata": {},
   "outputs": [],
   "source": [
    "import pandas as pd\n",
    "import json\n",
    "import urllib\n",
    "import requests as rq\n",
    "import base64\n",
    "\n",
    "def get_oauth_token(): \n",
    "    url = \"https://api.idealista.com/oauth/token\"    \n",
    "\n",
    "    apikey = 'ldp3w0rsx11qtwwtzp9olfsl0xfv5o7e'  # Sent by Idealista\n",
    "    secret = 'kmc4GbwHzsgU'  # Sent by Idealista\n",
    "    apikey_secret = apikey + ':' + secret\n",
    "    auth = str(base64.b64encode(bytes(apikey_secret, 'utf-8')))[2:][:-1]\n",
    "\n",
    "    headers = {'Authorization': 'Basic ' + auth, 'Content-Type': 'application/x-www-form-urlencoded;charset=UTF-8'}\n",
    "    params = urllib.parse.urlencode({'grant_type': 'client_credentials'})\n",
    "    content = rq.post(url, headers=headers, data=params)\n",
    "    bearer_token = json.loads(content.text)['access_token']\n",
    "\n",
    "    return bearer_token\n",
    "\n",
    "def search_api(token, URL):  \n",
    "    headers = {'Content-Type': 'multipart/form-data', 'Authorization': 'Bearer ' + token}\n",
    "    content = rq.post(URL, headers=headers)\n",
    "    result = json.loads(content.text)\n",
    "\n",
    "    return result"
   ]
  },
  {
   "cell_type": "code",
   "execution_count": 33,
   "metadata": {},
   "outputs": [
    {
     "name": "stdout",
     "output_type": "stream",
     "text": [
      "<Response [200]>\n",
      "{'message': 'internal server error', 'httpStatus': 500}\n"
     ]
    },
    {
     "ename": "KeyError",
     "evalue": "'elementList'",
     "output_type": "error",
     "traceback": [
      "\u001b[1;31m---------------------------------------------------------------------------\u001b[0m",
      "\u001b[1;31mKeyError\u001b[0m                                  Traceback (most recent call last)",
      "\u001b[1;32m~\\AppData\\Local\\Temp\\ipykernel_10896\\1746858742.py\u001b[0m in \u001b[0;36m<module>\u001b[1;34m\u001b[0m\n\u001b[0;32m     26\u001b[0m     \u001b[0ma\u001b[0m \u001b[1;33m=\u001b[0m \u001b[0msearch_api\u001b[0m\u001b[1;33m(\u001b[0m\u001b[0mget_oauth_token\u001b[0m\u001b[1;33m(\u001b[0m\u001b[1;33m)\u001b[0m\u001b[1;33m,\u001b[0m \u001b[0murl\u001b[0m\u001b[1;33m)\u001b[0m\u001b[1;33m\u001b[0m\u001b[1;33m\u001b[0m\u001b[0m\n\u001b[0;32m     27\u001b[0m     \u001b[0mprint\u001b[0m\u001b[1;33m(\u001b[0m\u001b[0ma\u001b[0m\u001b[1;33m)\u001b[0m\u001b[1;33m\u001b[0m\u001b[1;33m\u001b[0m\u001b[0m\n\u001b[1;32m---> 28\u001b[1;33m     \u001b[0mdf\u001b[0m \u001b[1;33m=\u001b[0m \u001b[0mpd\u001b[0m\u001b[1;33m.\u001b[0m\u001b[0mDataFrame\u001b[0m\u001b[1;33m.\u001b[0m\u001b[0mfrom_dict\u001b[0m\u001b[1;33m(\u001b[0m\u001b[0ma\u001b[0m\u001b[1;33m[\u001b[0m\u001b[1;34m'elementList'\u001b[0m\u001b[1;33m]\u001b[0m\u001b[1;33m)\u001b[0m\u001b[1;33m\u001b[0m\u001b[1;33m\u001b[0m\u001b[0m\n\u001b[0m\u001b[0;32m     29\u001b[0m     \u001b[0mdf_tot\u001b[0m \u001b[1;33m=\u001b[0m \u001b[0mpd\u001b[0m\u001b[1;33m.\u001b[0m\u001b[0mconcat\u001b[0m\u001b[1;33m(\u001b[0m\u001b[1;33m[\u001b[0m\u001b[0mdf_tot\u001b[0m\u001b[1;33m,\u001b[0m \u001b[0mdf\u001b[0m\u001b[1;33m]\u001b[0m\u001b[1;33m)\u001b[0m\u001b[1;33m\u001b[0m\u001b[1;33m\u001b[0m\u001b[0m\n\u001b[0;32m     30\u001b[0m \u001b[1;33m\u001b[0m\u001b[0m\n",
      "\u001b[1;31mKeyError\u001b[0m: 'elementList'"
     ]
    }
   ],
   "source": [
    "country = 'es'  # values: es, it, pt\n",
    "locale = 'es'  # values: es, it, pt, en, ca\n",
    "language = 'es'\n",
    "max_items = '50'\n",
    "operation = 'sale'\n",
    "property_type = 'homes'\n",
    "order = 'priceDown'\n",
    "center = '40.4167,-3.70325'\n",
    "distance = '60000'\n",
    "sort = 'desc'\n",
    "bankOffer = 'false'\n",
    "\n",
    "df_tot = pd.DataFrame()\n",
    "limit = 10\n",
    "\n",
    "for i in range(1, limit):\n",
    "    url = ('https://api.idealista.com/3.5/' + country + '/search?operation=' + operation +\n",
    "           '&maxItems=' + max_items +\n",
    "           '&order=' + order +\n",
    "           '&center=' + center +\n",
    "           '&distance=' + distance +\n",
    "           '&propertyType=' + property_type +\n",
    "           '&sort=' + sort +\n",
    "           '&numPage=%s' +\n",
    "           '&language=' + language) % (i)  \n",
    "    a = search_api(get_oauth_token(), url)\n",
    "    df = pd.DataFrame.from_dict(a['elementList'])\n",
    "    df_tot = pd.concat([df_tot, df])\n",
    "\n",
    "df_tot = df_tot.reset_index()"
   ]
  },
  {
   "cell_type": "code",
   "execution_count": null,
   "metadata": {},
   "outputs": [],
   "source": []
  }
 ],
 "metadata": {
  "kernelspec": {
   "display_name": "myenv",
   "language": "python",
   "name": "python3"
  },
  "language_info": {
   "codemirror_mode": {
    "name": "ipython",
    "version": 3
   },
   "file_extension": ".py",
   "mimetype": "text/x-python",
   "name": "python",
   "nbconvert_exporter": "python",
   "pygments_lexer": "ipython3",
   "version": "3.7.9"
  },
  "orig_nbformat": 4
 },
 "nbformat": 4,
 "nbformat_minor": 2
}
