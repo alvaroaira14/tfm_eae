{
 "cells": [
  {
   "cell_type": "code",
   "execution_count": null,
   "metadata": {},
   "outputs": [],
   "source": [
    "!pip install google-api-python-client"
   ]
  },
  {
   "cell_type": "code",
   "execution_count": null,
   "metadata": {},
   "outputs": [],
   "source": [
    "import pandas as pd\n",
    "from googleapiclient.discovery import build\n",
    "from google.oauth2 import service_account"
   ]
  },
  {
   "cell_type": "code",
   "execution_count": null,
   "metadata": {},
   "outputs": [],
   "source": [
    "credentials = service_account.Credentials.from_service_account_file('credentials.json')\n",
    "drive_service = build('drive', 'v3', credentials=credentials)"
   ]
  },
  {
   "cell_type": "code",
   "execution_count": null,
   "metadata": {},
   "outputs": [],
   "source": [
    "# Authenticate with the Google Drive API using the credentials JSON file\n",
    "credentials = service_account.Credentials.from_service_account_file('credentials.json')\n",
    "drive_service = build('drive', 'v3', credentials=credentials)\n",
    "\n",
    "# Retrieve the files in the Google Drive folder\n",
    "folder_id = '<folder_id>'\n",
    "results = drive_service.files().list(q=f\"'{folder_id}' in parents\", fields='files(id, name)').execute()\n",
    "files = results.get('files', [])\n",
    "\n",
    "# Process each file\n",
    "for file in files:\n",
    "    file_id = file['id']\n",
    "    file_name = file['name']\n",
    "    # Handle each file according to its type (e.g., CSV, Excel, etc.)\n",
    "    if file_name.endswith('.csv'):\n",
    "        # Read CSV file into a DataFrame using pandas\n",
    "        df = pd.read_csv(drive_service.files().get_media(fileId=file_id).execute())\n",
    "        # Perform necessary data manipulation or transformation\n",
    "\n",
    "        # Insert data into the SQL database\n",
    "        df.to_sql('<table_name>', conn, if_exists='append', index=False)\n"
   ]
  }
 ],
 "metadata": {
  "kernelspec": {
   "display_name": "base",
   "language": "python",
   "name": "python3"
  },
  "language_info": {
   "codemirror_mode": {
    "name": "ipython",
    "version": 3
   },
   "file_extension": ".py",
   "mimetype": "text/x-python",
   "name": "python",
   "nbconvert_exporter": "python",
   "pygments_lexer": "ipython3",
   "version": "3.7.0"
  },
  "orig_nbformat": 4
 },
 "nbformat": 4,
 "nbformat_minor": 2
}
